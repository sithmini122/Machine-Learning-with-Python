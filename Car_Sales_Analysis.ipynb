{
 "cells": [
  {
   "cell_type": "code",
   "execution_count": null,
   "id": "a9e0dfa3",
   "metadata": {},
   "outputs": [],
   "source": [
    "import pandas as pd\n",
    "import numpy as np\n",
    "import matplotlib.pyplot as plt\n",
    "import seaborn as sns\n",
    "import plotly.express as px\n",
    "\n",
    "from sklearn.tree import DecisionTreeRegressor\n",
    "from sklearn.ensemble import RandomForestRegressor, GradientBoostingRegressor\n",
    "from xgboost import XGBRegressor\n",
    "from catboost import CatBoostRegressor\n",
    "from sklearn.linear_model import LinearRegression, Ridge, Lasso, ElasticNet\n",
    "from sklearn.neural_network import MLPRegressor\n",
    "from sklearn.model_selection import train_test_split, cross_val_score\n",
    "from sklearn.metrics import r2_score, mean_absolute_error, mean_absolute_percentage_error\n"
   ]
  },
  {
   "cell_type": "code",
   "execution_count": 2,
   "id": "5d05b0c7",
   "metadata": {},
   "outputs": [
    {
     "data": {
      "text/html": [
       "<div>\n",
       "<style scoped>\n",
       "    .dataframe tbody tr th:only-of-type {\n",
       "        vertical-align: middle;\n",
       "    }\n",
       "\n",
       "    .dataframe tbody tr th {\n",
       "        vertical-align: top;\n",
       "    }\n",
       "\n",
       "    .dataframe thead th {\n",
       "        text-align: right;\n",
       "    }\n",
       "</style>\n",
       "<table border=\"1\" class=\"dataframe\">\n",
       "  <thead>\n",
       "    <tr style=\"text-align: right;\">\n",
       "      <th></th>\n",
       "      <th>Manufacturer</th>\n",
       "      <th>Model</th>\n",
       "      <th>Engine size</th>\n",
       "      <th>Fuel type</th>\n",
       "      <th>Year of manufacture</th>\n",
       "      <th>Mileage</th>\n",
       "      <th>Price</th>\n",
       "    </tr>\n",
       "  </thead>\n",
       "  <tbody>\n",
       "    <tr>\n",
       "      <th>0</th>\n",
       "      <td>Ford</td>\n",
       "      <td>Fiesta</td>\n",
       "      <td>1.0</td>\n",
       "      <td>Petrol</td>\n",
       "      <td>2002</td>\n",
       "      <td>127300</td>\n",
       "      <td>3074</td>\n",
       "    </tr>\n",
       "    <tr>\n",
       "      <th>1</th>\n",
       "      <td>Porsche</td>\n",
       "      <td>718 Cayman</td>\n",
       "      <td>4.0</td>\n",
       "      <td>Petrol</td>\n",
       "      <td>2016</td>\n",
       "      <td>57850</td>\n",
       "      <td>49704</td>\n",
       "    </tr>\n",
       "    <tr>\n",
       "      <th>2</th>\n",
       "      <td>Ford</td>\n",
       "      <td>Mondeo</td>\n",
       "      <td>1.6</td>\n",
       "      <td>Diesel</td>\n",
       "      <td>2014</td>\n",
       "      <td>39190</td>\n",
       "      <td>24072</td>\n",
       "    </tr>\n",
       "    <tr>\n",
       "      <th>3</th>\n",
       "      <td>Toyota</td>\n",
       "      <td>RAV4</td>\n",
       "      <td>1.8</td>\n",
       "      <td>Hybrid</td>\n",
       "      <td>1988</td>\n",
       "      <td>210814</td>\n",
       "      <td>1705</td>\n",
       "    </tr>\n",
       "    <tr>\n",
       "      <th>4</th>\n",
       "      <td>VW</td>\n",
       "      <td>Polo</td>\n",
       "      <td>1.0</td>\n",
       "      <td>Petrol</td>\n",
       "      <td>2006</td>\n",
       "      <td>127869</td>\n",
       "      <td>4101</td>\n",
       "    </tr>\n",
       "  </tbody>\n",
       "</table>\n",
       "</div>"
      ],
      "text/plain": [
       "  Manufacturer       Model  Engine size Fuel type  Year of manufacture  \\\n",
       "0         Ford      Fiesta          1.0    Petrol                 2002   \n",
       "1      Porsche  718 Cayman          4.0    Petrol                 2016   \n",
       "2         Ford      Mondeo          1.6    Diesel                 2014   \n",
       "3       Toyota        RAV4          1.8    Hybrid                 1988   \n",
       "4           VW        Polo          1.0    Petrol                 2006   \n",
       "\n",
       "   Mileage  Price  \n",
       "0   127300   3074  \n",
       "1    57850  49704  \n",
       "2    39190  24072  \n",
       "3   210814   1705  \n",
       "4   127869   4101  "
      ]
     },
     "execution_count": 2,
     "metadata": {},
     "output_type": "execute_result"
    }
   ],
   "source": [
    "car_data = pd.read_csv('car_sales_data.csv', header = 0, sep=',')\n",
    "car_data.head()"
   ]
  },
  {
   "cell_type": "code",
   "execution_count": 3,
   "id": "894f69d1",
   "metadata": {},
   "outputs": [
    {
     "data": {
      "text/plain": [
       "(50000, 7)"
      ]
     },
     "execution_count": 3,
     "metadata": {},
     "output_type": "execute_result"
    }
   ],
   "source": [
    "car_data.shape"
   ]
  },
  {
   "cell_type": "code",
   "execution_count": 4,
   "id": "b1cdf621",
   "metadata": {},
   "outputs": [
    {
     "data": {
      "text/plain": [
       "Manufacturer           0\n",
       "Model                  0\n",
       "Engine size            0\n",
       "Fuel type              0\n",
       "Year of manufacture    0\n",
       "Mileage                0\n",
       "Price                  0\n",
       "dtype: int64"
      ]
     },
     "execution_count": 4,
     "metadata": {},
     "output_type": "execute_result"
    }
   ],
   "source": [
    "car_data.isnull().sum()"
   ]
  },
  {
   "cell_type": "code",
   "execution_count": 5,
   "id": "e81b17e6",
   "metadata": {},
   "outputs": [
    {
     "data": {
      "text/html": [
       "<div>\n",
       "<style scoped>\n",
       "    .dataframe tbody tr th:only-of-type {\n",
       "        vertical-align: middle;\n",
       "    }\n",
       "\n",
       "    .dataframe tbody tr th {\n",
       "        vertical-align: top;\n",
       "    }\n",
       "\n",
       "    .dataframe thead th {\n",
       "        text-align: right;\n",
       "    }\n",
       "</style>\n",
       "<table border=\"1\" class=\"dataframe\">\n",
       "  <thead>\n",
       "    <tr style=\"text-align: right;\">\n",
       "      <th></th>\n",
       "      <th>Manufacturer</th>\n",
       "      <th>Model</th>\n",
       "      <th>Engine size</th>\n",
       "      <th>Fuel type</th>\n",
       "      <th>Year of manufacture</th>\n",
       "      <th>Mileage</th>\n",
       "      <th>Price</th>\n",
       "    </tr>\n",
       "  </thead>\n",
       "  <tbody>\n",
       "    <tr>\n",
       "      <th>5426</th>\n",
       "      <td>VW</td>\n",
       "      <td>Polo</td>\n",
       "      <td>1.2</td>\n",
       "      <td>Petrol</td>\n",
       "      <td>2003</td>\n",
       "      <td>10000</td>\n",
       "      <td>8024</td>\n",
       "    </tr>\n",
       "    <tr>\n",
       "      <th>9862</th>\n",
       "      <td>Ford</td>\n",
       "      <td>Mondeo</td>\n",
       "      <td>1.4</td>\n",
       "      <td>Diesel</td>\n",
       "      <td>1987</td>\n",
       "      <td>224569</td>\n",
       "      <td>883</td>\n",
       "    </tr>\n",
       "    <tr>\n",
       "      <th>14745</th>\n",
       "      <td>BMW</td>\n",
       "      <td>Z4</td>\n",
       "      <td>2.4</td>\n",
       "      <td>Petrol</td>\n",
       "      <td>1999</td>\n",
       "      <td>12000</td>\n",
       "      <td>13410</td>\n",
       "    </tr>\n",
       "    <tr>\n",
       "      <th>19020</th>\n",
       "      <td>Toyota</td>\n",
       "      <td>Yaris</td>\n",
       "      <td>1.0</td>\n",
       "      <td>Petrol</td>\n",
       "      <td>1996</td>\n",
       "      <td>13500</td>\n",
       "      <td>5087</td>\n",
       "    </tr>\n",
       "    <tr>\n",
       "      <th>19337</th>\n",
       "      <td>VW</td>\n",
       "      <td>Polo</td>\n",
       "      <td>1.0</td>\n",
       "      <td>Petrol</td>\n",
       "      <td>2000</td>\n",
       "      <td>11500</td>\n",
       "      <td>5950</td>\n",
       "    </tr>\n",
       "    <tr>\n",
       "      <th>23927</th>\n",
       "      <td>VW</td>\n",
       "      <td>Polo</td>\n",
       "      <td>1.2</td>\n",
       "      <td>Petrol</td>\n",
       "      <td>2021</td>\n",
       "      <td>1000</td>\n",
       "      <td>27901</td>\n",
       "    </tr>\n",
       "    <tr>\n",
       "      <th>25368</th>\n",
       "      <td>VW</td>\n",
       "      <td>Golf</td>\n",
       "      <td>1.2</td>\n",
       "      <td>Diesel</td>\n",
       "      <td>2011</td>\n",
       "      <td>6000</td>\n",
       "      <td>17401</td>\n",
       "    </tr>\n",
       "    <tr>\n",
       "      <th>28576</th>\n",
       "      <td>VW</td>\n",
       "      <td>Polo</td>\n",
       "      <td>1.2</td>\n",
       "      <td>Petrol</td>\n",
       "      <td>2003</td>\n",
       "      <td>10000</td>\n",
       "      <td>8024</td>\n",
       "    </tr>\n",
       "    <tr>\n",
       "      <th>34246</th>\n",
       "      <td>VW</td>\n",
       "      <td>Passat</td>\n",
       "      <td>2.0</td>\n",
       "      <td>Diesel</td>\n",
       "      <td>2003</td>\n",
       "      <td>10000</td>\n",
       "      <td>16087</td>\n",
       "    </tr>\n",
       "    <tr>\n",
       "      <th>35647</th>\n",
       "      <td>Ford</td>\n",
       "      <td>Focus</td>\n",
       "      <td>1.6</td>\n",
       "      <td>Petrol</td>\n",
       "      <td>2019</td>\n",
       "      <td>2000</td>\n",
       "      <td>39636</td>\n",
       "    </tr>\n",
       "    <tr>\n",
       "      <th>41536</th>\n",
       "      <td>VW</td>\n",
       "      <td>Passat</td>\n",
       "      <td>1.8</td>\n",
       "      <td>Diesel</td>\n",
       "      <td>1996</td>\n",
       "      <td>13500</td>\n",
       "      <td>9394</td>\n",
       "    </tr>\n",
       "    <tr>\n",
       "      <th>45904</th>\n",
       "      <td>Ford</td>\n",
       "      <td>Fiesta</td>\n",
       "      <td>1.2</td>\n",
       "      <td>Petrol</td>\n",
       "      <td>2003</td>\n",
       "      <td>124092</td>\n",
       "      <td>3691</td>\n",
       "    </tr>\n",
       "  </tbody>\n",
       "</table>\n",
       "</div>"
      ],
      "text/plain": [
       "      Manufacturer   Model  Engine size Fuel type  Year of manufacture  \\\n",
       "5426            VW    Polo          1.2    Petrol                 2003   \n",
       "9862          Ford  Mondeo          1.4    Diesel                 1987   \n",
       "14745          BMW      Z4          2.4    Petrol                 1999   \n",
       "19020       Toyota   Yaris          1.0    Petrol                 1996   \n",
       "19337           VW    Polo          1.0    Petrol                 2000   \n",
       "23927           VW    Polo          1.2    Petrol                 2021   \n",
       "25368           VW    Golf          1.2    Diesel                 2011   \n",
       "28576           VW    Polo          1.2    Petrol                 2003   \n",
       "34246           VW  Passat          2.0    Diesel                 2003   \n",
       "35647         Ford   Focus          1.6    Petrol                 2019   \n",
       "41536           VW  Passat          1.8    Diesel                 1996   \n",
       "45904         Ford  Fiesta          1.2    Petrol                 2003   \n",
       "\n",
       "       Mileage  Price  \n",
       "5426     10000   8024  \n",
       "9862    224569    883  \n",
       "14745    12000  13410  \n",
       "19020    13500   5087  \n",
       "19337    11500   5950  \n",
       "23927     1000  27901  \n",
       "25368     6000  17401  \n",
       "28576    10000   8024  \n",
       "34246    10000  16087  \n",
       "35647     2000  39636  \n",
       "41536    13500   9394  \n",
       "45904   124092   3691  "
      ]
     },
     "execution_count": 5,
     "metadata": {},
     "output_type": "execute_result"
    }
   ],
   "source": [
    "car_data.loc[car_data.duplicated()]"
   ]
  },
  {
   "cell_type": "code",
   "execution_count": 6,
   "id": "8eeb97bb",
   "metadata": {},
   "outputs": [],
   "source": [
    "car_data = car_data.drop_duplicates()"
   ]
  },
  {
   "cell_type": "code",
   "execution_count": 7,
   "id": "fa7c4214",
   "metadata": {},
   "outputs": [
    {
     "data": {
      "text/plain": [
       "np.int64(0)"
      ]
     },
     "execution_count": 7,
     "metadata": {},
     "output_type": "execute_result"
    }
   ],
   "source": [
    "car_data.duplicated().sum()"
   ]
  },
  {
   "cell_type": "code",
   "execution_count": 8,
   "id": "cb0f06e2",
   "metadata": {},
   "outputs": [
    {
     "data": {
      "text/plain": [
       "(49988, 7)"
      ]
     },
     "execution_count": 8,
     "metadata": {},
     "output_type": "execute_result"
    }
   ],
   "source": [
    "car_data.shape"
   ]
  },
  {
   "cell_type": "code",
   "execution_count": 9,
   "id": "5c47b4c0",
   "metadata": {},
   "outputs": [
    {
     "data": {
      "text/html": [
       "<div>\n",
       "<style scoped>\n",
       "    .dataframe tbody tr th:only-of-type {\n",
       "        vertical-align: middle;\n",
       "    }\n",
       "\n",
       "    .dataframe tbody tr th {\n",
       "        vertical-align: top;\n",
       "    }\n",
       "\n",
       "    .dataframe thead th {\n",
       "        text-align: right;\n",
       "    }\n",
       "</style>\n",
       "<table border=\"1\" class=\"dataframe\">\n",
       "  <thead>\n",
       "    <tr style=\"text-align: right;\">\n",
       "      <th></th>\n",
       "      <th>Manufacturer</th>\n",
       "      <th>Model</th>\n",
       "      <th>Engine size</th>\n",
       "      <th>Fuel type</th>\n",
       "      <th>Year of manufacture</th>\n",
       "      <th>Mileage</th>\n",
       "      <th>Price</th>\n",
       "    </tr>\n",
       "  </thead>\n",
       "  <tbody>\n",
       "    <tr>\n",
       "      <th>0</th>\n",
       "      <td>Ford</td>\n",
       "      <td>Fiesta</td>\n",
       "      <td>1.0</td>\n",
       "      <td>Petrol</td>\n",
       "      <td>2002</td>\n",
       "      <td>127300</td>\n",
       "      <td>3074</td>\n",
       "    </tr>\n",
       "    <tr>\n",
       "      <th>1</th>\n",
       "      <td>Porsche</td>\n",
       "      <td>718 Cayman</td>\n",
       "      <td>4.0</td>\n",
       "      <td>Petrol</td>\n",
       "      <td>2016</td>\n",
       "      <td>57850</td>\n",
       "      <td>49704</td>\n",
       "    </tr>\n",
       "    <tr>\n",
       "      <th>2</th>\n",
       "      <td>Ford</td>\n",
       "      <td>Mondeo</td>\n",
       "      <td>1.6</td>\n",
       "      <td>Diesel</td>\n",
       "      <td>2014</td>\n",
       "      <td>39190</td>\n",
       "      <td>24072</td>\n",
       "    </tr>\n",
       "    <tr>\n",
       "      <th>3</th>\n",
       "      <td>Toyota</td>\n",
       "      <td>RAV4</td>\n",
       "      <td>1.8</td>\n",
       "      <td>Hybrid</td>\n",
       "      <td>1988</td>\n",
       "      <td>210814</td>\n",
       "      <td>1705</td>\n",
       "    </tr>\n",
       "    <tr>\n",
       "      <th>4</th>\n",
       "      <td>VW</td>\n",
       "      <td>Polo</td>\n",
       "      <td>1.0</td>\n",
       "      <td>Petrol</td>\n",
       "      <td>2006</td>\n",
       "      <td>127869</td>\n",
       "      <td>4101</td>\n",
       "    </tr>\n",
       "  </tbody>\n",
       "</table>\n",
       "</div>"
      ],
      "text/plain": [
       "  Manufacturer       Model  Engine size Fuel type  Year of manufacture  \\\n",
       "0         Ford      Fiesta          1.0    Petrol                 2002   \n",
       "1      Porsche  718 Cayman          4.0    Petrol                 2016   \n",
       "2         Ford      Mondeo          1.6    Diesel                 2014   \n",
       "3       Toyota        RAV4          1.8    Hybrid                 1988   \n",
       "4           VW        Polo          1.0    Petrol                 2006   \n",
       "\n",
       "   Mileage  Price  \n",
       "0   127300   3074  \n",
       "1    57850  49704  \n",
       "2    39190  24072  \n",
       "3   210814   1705  \n",
       "4   127869   4101  "
      ]
     },
     "execution_count": 9,
     "metadata": {},
     "output_type": "execute_result"
    }
   ],
   "source": [
    "car_data.head()"
   ]
  },
  {
   "cell_type": "code",
   "execution_count": 10,
   "id": "eeea2b97",
   "metadata": {},
   "outputs": [
    {
     "name": "stdout",
     "output_type": "stream",
     "text": [
      "<class 'pandas.core.frame.DataFrame'>\n",
      "Index: 49988 entries, 0 to 49999\n",
      "Data columns (total 7 columns):\n",
      " #   Column               Non-Null Count  Dtype  \n",
      "---  ------               --------------  -----  \n",
      " 0   Manufacturer         49988 non-null  object \n",
      " 1   Model                49988 non-null  object \n",
      " 2   Engine size          49988 non-null  float64\n",
      " 3   Fuel type            49988 non-null  object \n",
      " 4   Year of manufacture  49988 non-null  int64  \n",
      " 5   Mileage              49988 non-null  int64  \n",
      " 6   Price                49988 non-null  int64  \n",
      "dtypes: float64(1), int64(3), object(3)\n",
      "memory usage: 3.1+ MB\n"
     ]
    }
   ],
   "source": [
    "car_data.info()"
   ]
  },
  {
   "cell_type": "code",
   "execution_count": 11,
   "id": "22a41d9b",
   "metadata": {},
   "outputs": [],
   "source": [
    "Q1 = car_data['Price'].quantile(0.25)\n",
    "Q3 = car_data['Price'].quantile(0.75)\n",
    "\n",
    "IQR = Q3 - Q1\n",
    "\n",
    "lower_bound = Q1 - 1.5*IQR\n",
    "upper_bound = Q3 + 1.5*IQR\n",
    "\n",
    "car_data = car_data[(car_data['Price']>= lower_bound) & (car_data['Price'] <= upper_bound)]"
   ]
  },
  {
   "cell_type": "code",
   "execution_count": 12,
   "id": "c902ea24",
   "metadata": {},
   "outputs": [
    {
     "data": {
      "text/plain": [
       "<Axes: xlabel='Manufacturer'>"
      ]
     },
     "execution_count": 12,
     "metadata": {},
     "output_type": "execute_result"
    },
    {
     "data": {
      "image/png": "[encoded data removed]",
      "text/plain": [
       "<Figure size 640x480 with 1 Axes>"
      ]
     },
     "metadata": {},
     "output_type": "display_data"
    }
   ],
   "source": [
    "car_data.groupby('Manufacturer')['Price'].mean().plot(kind = 'bar')"
   ]
  },
  {
   "cell_type": "code",
   "execution_count": 13,
   "id": "ddd8ca80",
   "metadata": {},
   "outputs": [
    {
     "data": {
      "text/plain": [
       "<Axes: xlabel='Model'>"
      ]
     },
     "execution_count": 13,
     "metadata": {},
     "output_type": "execute_result"
    },
    {
     "data": {
      "image/png": "[encoded data removed]",
      "text/plain": [
       "<Figure size 640x480 with 1 Axes>"
      ]
     },
     "metadata": {},
     "output_type": "display_data"
    }
   ],
   "source": [
    "car_data.groupby('Model')['Price'].mean().plot(kind = 'bar')"
   ]
  },
  {
   "cell_type": "code",
   "execution_count": 14,
   "id": "e91168cb",
   "metadata": {},
   "outputs": [
    {
     "data": {
      "text/plain": [
       "<Axes: xlabel='Fuel type'>"
      ]
     },
     "execution_count": 14,
     "metadata": {},
     "output_type": "execute_result"
    },
    {
     "data": {
      "image/png": "[encoded data removed]",
      "text/plain": [
       "<Figure size 640x480 with 1 Axes>"
      ]
     },
     "metadata": {},
     "output_type": "display_data"
    }
   ],
   "source": [
    "car_data.groupby('Fuel type')['Price'].mean().plot(kind = 'bar')"
   ]
  },
  {
   "cell_type": "code",
   "execution_count": 15,
   "id": "223372a2",
   "metadata": {},
   "outputs": [
    {
     "data": {
      "text/plain": [
       "<Axes: >"
      ]
     },
     "execution_count": 15,
     "metadata": {},
     "output_type": "execute_result"
    },
    {
     "data": {
      "image/png": "[encoded data removed]",
      "text/plain": [
       "<Figure size 640x480 with 2 Axes>"
      ]
     },
     "metadata": {},
     "output_type": "display_data"
    }
   ],
   "source": [
    "corr_matrix = car_data.corr(numeric_only=True)\n",
    "\n",
    "sns.heatmap(data = corr_matrix, annot = True)"
   ]
  },
  {
   "cell_type": "code",
   "execution_count": 16,
   "id": "97d05b53",
   "metadata": {},
   "outputs": [
    {
     "data": {
      "text/html": [
       "<div>\n",
       "<style scoped>\n",
       "    .dataframe tbody tr th:only-of-type {\n",
       "        vertical-align: middle;\n",
       "    }\n",
       "\n",
       "    .dataframe tbody tr th {\n",
       "        vertical-align: top;\n",
       "    }\n",
       "\n",
       "    .dataframe thead th {\n",
       "        text-align: right;\n",
       "    }\n",
       "</style>\n",
       "<table border=\"1\" class=\"dataframe\">\n",
       "  <thead>\n",
       "    <tr style=\"text-align: right;\">\n",
       "      <th></th>\n",
       "      <th>Manufacturer</th>\n",
       "      <th>Model</th>\n",
       "      <th>Engine size</th>\n",
       "      <th>Fuel type</th>\n",
       "      <th>Year of manufacture</th>\n",
       "      <th>Mileage</th>\n",
       "      <th>Price</th>\n",
       "    </tr>\n",
       "  </thead>\n",
       "  <tbody>\n",
       "    <tr>\n",
       "      <th>0</th>\n",
       "      <td>Ford</td>\n",
       "      <td>Fiesta</td>\n",
       "      <td>1.0</td>\n",
       "      <td>Petrol</td>\n",
       "      <td>2002</td>\n",
       "      <td>127300</td>\n",
       "      <td>3074</td>\n",
       "    </tr>\n",
       "    <tr>\n",
       "      <th>2</th>\n",
       "      <td>Ford</td>\n",
       "      <td>Mondeo</td>\n",
       "      <td>1.6</td>\n",
       "      <td>Diesel</td>\n",
       "      <td>2014</td>\n",
       "      <td>39190</td>\n",
       "      <td>24072</td>\n",
       "    </tr>\n",
       "    <tr>\n",
       "      <th>3</th>\n",
       "      <td>Toyota</td>\n",
       "      <td>RAV4</td>\n",
       "      <td>1.8</td>\n",
       "      <td>Hybrid</td>\n",
       "      <td>1988</td>\n",
       "      <td>210814</td>\n",
       "      <td>1705</td>\n",
       "    </tr>\n",
       "    <tr>\n",
       "      <th>4</th>\n",
       "      <td>VW</td>\n",
       "      <td>Polo</td>\n",
       "      <td>1.0</td>\n",
       "      <td>Petrol</td>\n",
       "      <td>2006</td>\n",
       "      <td>127869</td>\n",
       "      <td>4101</td>\n",
       "    </tr>\n",
       "    <tr>\n",
       "      <th>5</th>\n",
       "      <td>Ford</td>\n",
       "      <td>Focus</td>\n",
       "      <td>1.4</td>\n",
       "      <td>Petrol</td>\n",
       "      <td>2018</td>\n",
       "      <td>33603</td>\n",
       "      <td>29204</td>\n",
       "    </tr>\n",
       "  </tbody>\n",
       "</table>\n",
       "</div>"
      ],
      "text/plain": [
       "  Manufacturer   Model  Engine size Fuel type  Year of manufacture  Mileage  \\\n",
       "0         Ford  Fiesta          1.0    Petrol                 2002   127300   \n",
       "2         Ford  Mondeo          1.6    Diesel                 2014    39190   \n",
       "3       Toyota    RAV4          1.8    Hybrid                 1988   210814   \n",
       "4           VW    Polo          1.0    Petrol                 2006   127869   \n",
       "5         Ford   Focus          1.4    Petrol                 2018    33603   \n",
       "\n",
       "   Price  \n",
       "0   3074  \n",
       "2  24072  \n",
       "3   1705  \n",
       "4   4101  \n",
       "5  29204  "
      ]
     },
     "execution_count": 16,
     "metadata": {},
     "output_type": "execute_result"
    }
   ],
   "source": [
    "car_data.head()"
   ]
  },
  {
   "cell_type": "code",
   "execution_count": 17,
   "id": "361ac498",
   "metadata": {},
   "outputs": [
    {
     "data": {
      "text/html": [
       "<div>\n",
       "<style scoped>\n",
       "    .dataframe tbody tr th:only-of-type {\n",
       "        vertical-align: middle;\n",
       "    }\n",
       "\n",
       "    .dataframe tbody tr th {\n",
       "        vertical-align: top;\n",
       "    }\n",
       "\n",
       "    .dataframe thead th {\n",
       "        text-align: right;\n",
       "    }\n",
       "</style>\n",
       "<table border=\"1\" class=\"dataframe\">\n",
       "  <thead>\n",
       "    <tr style=\"text-align: right;\">\n",
       "      <th></th>\n",
       "      <th>Ford</th>\n",
       "      <th>Porsche</th>\n",
       "      <th>Toyota</th>\n",
       "      <th>VW</th>\n",
       "    </tr>\n",
       "  </thead>\n",
       "  <tbody>\n",
       "    <tr>\n",
       "      <th>0</th>\n",
       "      <td>1</td>\n",
       "      <td>0</td>\n",
       "      <td>0</td>\n",
       "      <td>0</td>\n",
       "    </tr>\n",
       "    <tr>\n",
       "      <th>2</th>\n",
       "      <td>1</td>\n",
       "      <td>0</td>\n",
       "      <td>0</td>\n",
       "      <td>0</td>\n",
       "    </tr>\n",
       "    <tr>\n",
       "      <th>3</th>\n",
       "      <td>0</td>\n",
       "      <td>0</td>\n",
       "      <td>1</td>\n",
       "      <td>0</td>\n",
       "    </tr>\n",
       "    <tr>\n",
       "      <th>4</th>\n",
       "      <td>0</td>\n",
       "      <td>0</td>\n",
       "      <td>0</td>\n",
       "      <td>1</td>\n",
       "    </tr>\n",
       "    <tr>\n",
       "      <th>5</th>\n",
       "      <td>1</td>\n",
       "      <td>0</td>\n",
       "      <td>0</td>\n",
       "      <td>0</td>\n",
       "    </tr>\n",
       "    <tr>\n",
       "      <th>...</th>\n",
       "      <td>...</td>\n",
       "      <td>...</td>\n",
       "      <td>...</td>\n",
       "      <td>...</td>\n",
       "    </tr>\n",
       "    <tr>\n",
       "      <th>49993</th>\n",
       "      <td>1</td>\n",
       "      <td>0</td>\n",
       "      <td>0</td>\n",
       "      <td>0</td>\n",
       "    </tr>\n",
       "    <tr>\n",
       "      <th>49994</th>\n",
       "      <td>0</td>\n",
       "      <td>0</td>\n",
       "      <td>1</td>\n",
       "      <td>0</td>\n",
       "    </tr>\n",
       "    <tr>\n",
       "      <th>49996</th>\n",
       "      <td>0</td>\n",
       "      <td>0</td>\n",
       "      <td>1</td>\n",
       "      <td>0</td>\n",
       "    </tr>\n",
       "    <tr>\n",
       "      <th>49998</th>\n",
       "      <td>1</td>\n",
       "      <td>0</td>\n",
       "      <td>0</td>\n",
       "      <td>0</td>\n",
       "    </tr>\n",
       "    <tr>\n",
       "      <th>49999</th>\n",
       "      <td>0</td>\n",
       "      <td>0</td>\n",
       "      <td>0</td>\n",
       "      <td>1</td>\n",
       "    </tr>\n",
       "  </tbody>\n",
       "</table>\n",
       "<p>47339 rows × 4 columns</p>\n",
       "</div>"
      ],
      "text/plain": [
       "       Ford  Porsche  Toyota  VW\n",
       "0         1        0       0   0\n",
       "2         1        0       0   0\n",
       "3         0        0       1   0\n",
       "4         0        0       0   1\n",
       "5         1        0       0   0\n",
       "...     ...      ...     ...  ..\n",
       "49993     1        0       0   0\n",
       "49994     0        0       1   0\n",
       "49996     0        0       1   0\n",
       "49998     1        0       0   0\n",
       "49999     0        0       0   1\n",
       "\n",
       "[47339 rows x 4 columns]"
      ]
     },
     "execution_count": 17,
     "metadata": {},
     "output_type": "execute_result"
    }
   ],
   "source": [
    "manufacturer = pd.get_dummies(car_data['Manufacturer'], drop_first=True, dtype = int)\n",
    "manufacturer"
   ]
  },
  {
   "cell_type": "code",
   "execution_count": 18,
   "id": "01b02995",
   "metadata": {},
   "outputs": [
    {
     "data": {
      "text/html": [
       "<div>\n",
       "<style scoped>\n",
       "    .dataframe tbody tr th:only-of-type {\n",
       "        vertical-align: middle;\n",
       "    }\n",
       "\n",
       "    .dataframe tbody tr th {\n",
       "        vertical-align: top;\n",
       "    }\n",
       "\n",
       "    .dataframe thead th {\n",
       "        text-align: right;\n",
       "    }\n",
       "</style>\n",
       "<table border=\"1\" class=\"dataframe\">\n",
       "  <thead>\n",
       "    <tr style=\"text-align: right;\">\n",
       "      <th></th>\n",
       "      <th>911</th>\n",
       "      <th>Cayenne</th>\n",
       "      <th>Fiesta</th>\n",
       "      <th>Focus</th>\n",
       "      <th>Golf</th>\n",
       "      <th>M5</th>\n",
       "      <th>Mondeo</th>\n",
       "      <th>Passat</th>\n",
       "      <th>Polo</th>\n",
       "      <th>Prius</th>\n",
       "      <th>RAV4</th>\n",
       "      <th>X3</th>\n",
       "      <th>Yaris</th>\n",
       "      <th>Z4</th>\n",
       "    </tr>\n",
       "  </thead>\n",
       "  <tbody>\n",
       "    <tr>\n",
       "      <th>0</th>\n",
       "      <td>0</td>\n",
       "      <td>0</td>\n",
       "      <td>1</td>\n",
       "      <td>0</td>\n",
       "      <td>0</td>\n",
       "      <td>0</td>\n",
       "      <td>0</td>\n",
       "      <td>0</td>\n",
       "      <td>0</td>\n",
       "      <td>0</td>\n",
       "      <td>0</td>\n",
       "      <td>0</td>\n",
       "      <td>0</td>\n",
       "      <td>0</td>\n",
       "    </tr>\n",
       "    <tr>\n",
       "      <th>2</th>\n",
       "      <td>0</td>\n",
       "      <td>0</td>\n",
       "      <td>0</td>\n",
       "      <td>0</td>\n",
       "      <td>0</td>\n",
       "      <td>0</td>\n",
       "      <td>1</td>\n",
       "      <td>0</td>\n",
       "      <td>0</td>\n",
       "      <td>0</td>\n",
       "      <td>0</td>\n",
       "      <td>0</td>\n",
       "      <td>0</td>\n",
       "      <td>0</td>\n",
       "    </tr>\n",
       "    <tr>\n",
       "      <th>3</th>\n",
       "      <td>0</td>\n",
       "      <td>0</td>\n",
       "      <td>0</td>\n",
       "      <td>0</td>\n",
       "      <td>0</td>\n",
       "      <td>0</td>\n",
       "      <td>0</td>\n",
       "      <td>0</td>\n",
       "      <td>0</td>\n",
       "      <td>0</td>\n",
       "      <td>1</td>\n",
       "      <td>0</td>\n",
       "      <td>0</td>\n",
       "      <td>0</td>\n",
       "    </tr>\n",
       "    <tr>\n",
       "      <th>4</th>\n",
       "      <td>0</td>\n",
       "      <td>0</td>\n",
       "      <td>0</td>\n",
       "      <td>0</td>\n",
       "      <td>0</td>\n",
       "      <td>0</td>\n",
       "      <td>0</td>\n",
       "      <td>0</td>\n",
       "      <td>1</td>\n",
       "      <td>0</td>\n",
       "      <td>0</td>\n",
       "      <td>0</td>\n",
       "      <td>0</td>\n",
       "      <td>0</td>\n",
       "    </tr>\n",
       "    <tr>\n",
       "      <th>5</th>\n",
       "      <td>0</td>\n",
       "      <td>0</td>\n",
       "      <td>0</td>\n",
       "      <td>1</td>\n",
       "      <td>0</td>\n",
       "      <td>0</td>\n",
       "      <td>0</td>\n",
       "      <td>0</td>\n",
       "      <td>0</td>\n",
       "      <td>0</td>\n",
       "      <td>0</td>\n",
       "      <td>0</td>\n",
       "      <td>0</td>\n",
       "      <td>0</td>\n",
       "    </tr>\n",
       "    <tr>\n",
       "      <th>...</th>\n",
       "      <td>...</td>\n",
       "      <td>...</td>\n",
       "      <td>...</td>\n",
       "      <td>...</td>\n",
       "      <td>...</td>\n",
       "      <td>...</td>\n",
       "      <td>...</td>\n",
       "      <td>...</td>\n",
       "      <td>...</td>\n",
       "      <td>...</td>\n",
       "      <td>...</td>\n",
       "      <td>...</td>\n",
       "      <td>...</td>\n",
       "      <td>...</td>\n",
       "    </tr>\n",
       "    <tr>\n",
       "      <th>49993</th>\n",
       "      <td>0</td>\n",
       "      <td>0</td>\n",
       "      <td>0</td>\n",
       "      <td>0</td>\n",
       "      <td>0</td>\n",
       "      <td>0</td>\n",
       "      <td>1</td>\n",
       "      <td>0</td>\n",
       "      <td>0</td>\n",
       "      <td>0</td>\n",
       "      <td>0</td>\n",
       "      <td>0</td>\n",
       "      <td>0</td>\n",
       "      <td>0</td>\n",
       "    </tr>\n",
       "    <tr>\n",
       "      <th>49994</th>\n",
       "      <td>0</td>\n",
       "      <td>0</td>\n",
       "      <td>0</td>\n",
       "      <td>0</td>\n",
       "      <td>0</td>\n",
       "      <td>0</td>\n",
       "      <td>0</td>\n",
       "      <td>0</td>\n",
       "      <td>0</td>\n",
       "      <td>0</td>\n",
       "      <td>1</td>\n",
       "      <td>0</td>\n",
       "      <td>0</td>\n",
       "      <td>0</td>\n",
       "    </tr>\n",
       "    <tr>\n",
       "      <th>49996</th>\n",
       "      <td>0</td>\n",
       "      <td>0</td>\n",
       "      <td>0</td>\n",
       "      <td>0</td>\n",
       "      <td>0</td>\n",
       "      <td>0</td>\n",
       "      <td>0</td>\n",
       "      <td>0</td>\n",
       "      <td>0</td>\n",
       "      <td>1</td>\n",
       "      <td>0</td>\n",
       "      <td>0</td>\n",
       "      <td>0</td>\n",
       "      <td>0</td>\n",
       "    </tr>\n",
       "    <tr>\n",
       "      <th>49998</th>\n",
       "      <td>0</td>\n",
       "      <td>0</td>\n",
       "      <td>0</td>\n",
       "      <td>1</td>\n",
       "      <td>0</td>\n",
       "      <td>0</td>\n",
       "      <td>0</td>\n",
       "      <td>0</td>\n",
       "      <td>0</td>\n",
       "      <td>0</td>\n",
       "      <td>0</td>\n",
       "      <td>0</td>\n",
       "      <td>0</td>\n",
       "      <td>0</td>\n",
       "    </tr>\n",
       "    <tr>\n",
       "      <th>49999</th>\n",
       "      <td>0</td>\n",
       "      <td>0</td>\n",
       "      <td>0</td>\n",
       "      <td>0</td>\n",
       "      <td>1</td>\n",
       "      <td>0</td>\n",
       "      <td>0</td>\n",
       "      <td>0</td>\n",
       "      <td>0</td>\n",
       "      <td>0</td>\n",
       "      <td>0</td>\n",
       "      <td>0</td>\n",
       "      <td>0</td>\n",
       "      <td>0</td>\n",
       "    </tr>\n",
       "  </tbody>\n",
       "</table>\n",
       "<p>47339 rows × 14 columns</p>\n",
       "</div>"
      ],
      "text/plain": [
       "       911  Cayenne  Fiesta  Focus  Golf  M5  Mondeo  Passat  Polo  Prius  \\\n",
       "0        0        0       1      0     0   0       0       0     0      0   \n",
       "2        0        0       0      0     0   0       1       0     0      0   \n",
       "3        0        0       0      0     0   0       0       0     0      0   \n",
       "4        0        0       0      0     0   0       0       0     1      0   \n",
       "5        0        0       0      1     0   0       0       0     0      0   \n",
       "...    ...      ...     ...    ...   ...  ..     ...     ...   ...    ...   \n",
       "49993    0        0       0      0     0   0       1       0     0      0   \n",
       "49994    0        0       0      0     0   0       0       0     0      0   \n",
       "49996    0        0       0      0     0   0       0       0     0      1   \n",
       "49998    0        0       0      1     0   0       0       0     0      0   \n",
       "49999    0        0       0      0     1   0       0       0     0      0   \n",
       "\n",
       "       RAV4  X3  Yaris  Z4  \n",
       "0         0   0      0   0  \n",
       "2         0   0      0   0  \n",
       "3         1   0      0   0  \n",
       "4         0   0      0   0  \n",
       "5         0   0      0   0  \n",
       "...     ...  ..    ...  ..  \n",
       "49993     0   0      0   0  \n",
       "49994     1   0      0   0  \n",
       "49996     0   0      0   0  \n",
       "49998     0   0      0   0  \n",
       "49999     0   0      0   0  \n",
       "\n",
       "[47339 rows x 14 columns]"
      ]
     },
     "execution_count": 18,
     "metadata": {},
     "output_type": "execute_result"
    }
   ],
   "source": [
    "model = pd.get_dummies(car_data['Model'], drop_first=True, dtype = int)\n",
    "model"
   ]
  },
  {
   "cell_type": "code",
   "execution_count": 19,
   "id": "7d65e360",
   "metadata": {},
   "outputs": [
    {
     "data": {
      "text/html": [
       "<div>\n",
       "<style scoped>\n",
       "    .dataframe tbody tr th:only-of-type {\n",
       "        vertical-align: middle;\n",
       "    }\n",
       "\n",
       "    .dataframe tbody tr th {\n",
       "        vertical-align: top;\n",
       "    }\n",
       "\n",
       "    .dataframe thead th {\n",
       "        text-align: right;\n",
       "    }\n",
       "</style>\n",
       "<table border=\"1\" class=\"dataframe\">\n",
       "  <thead>\n",
       "    <tr style=\"text-align: right;\">\n",
       "      <th></th>\n",
       "      <th>Hybrid</th>\n",
       "      <th>Petrol</th>\n",
       "    </tr>\n",
       "  </thead>\n",
       "  <tbody>\n",
       "    <tr>\n",
       "      <th>0</th>\n",
       "      <td>0</td>\n",
       "      <td>1</td>\n",
       "    </tr>\n",
       "    <tr>\n",
       "      <th>2</th>\n",
       "      <td>0</td>\n",
       "      <td>0</td>\n",
       "    </tr>\n",
       "    <tr>\n",
       "      <th>3</th>\n",
       "      <td>1</td>\n",
       "      <td>0</td>\n",
       "    </tr>\n",
       "    <tr>\n",
       "      <th>4</th>\n",
       "      <td>0</td>\n",
       "      <td>1</td>\n",
       "    </tr>\n",
       "    <tr>\n",
       "      <th>5</th>\n",
       "      <td>0</td>\n",
       "      <td>1</td>\n",
       "    </tr>\n",
       "    <tr>\n",
       "      <th>...</th>\n",
       "      <td>...</td>\n",
       "      <td>...</td>\n",
       "    </tr>\n",
       "    <tr>\n",
       "      <th>49993</th>\n",
       "      <td>0</td>\n",
       "      <td>1</td>\n",
       "    </tr>\n",
       "    <tr>\n",
       "      <th>49994</th>\n",
       "      <td>1</td>\n",
       "      <td>0</td>\n",
       "    </tr>\n",
       "    <tr>\n",
       "      <th>49996</th>\n",
       "      <td>1</td>\n",
       "      <td>0</td>\n",
       "    </tr>\n",
       "    <tr>\n",
       "      <th>49998</th>\n",
       "      <td>0</td>\n",
       "      <td>0</td>\n",
       "    </tr>\n",
       "    <tr>\n",
       "      <th>49999</th>\n",
       "      <td>0</td>\n",
       "      <td>0</td>\n",
       "    </tr>\n",
       "  </tbody>\n",
       "</table>\n",
       "<p>47339 rows × 2 columns</p>\n",
       "</div>"
      ],
      "text/plain": [
       "       Hybrid  Petrol\n",
       "0           0       1\n",
       "2           0       0\n",
       "3           1       0\n",
       "4           0       1\n",
       "5           0       1\n",
       "...       ...     ...\n",
       "49993       0       1\n",
       "49994       1       0\n",
       "49996       1       0\n",
       "49998       0       0\n",
       "49999       0       0\n",
       "\n",
       "[47339 rows x 2 columns]"
      ]
     },
     "execution_count": 19,
     "metadata": {},
     "output_type": "execute_result"
    }
   ],
   "source": [
    "fuel_type = pd.get_dummies(car_data['Fuel type'], drop_first=True, dtype = int)\n",
    "fuel_type"
   ]
  },
  {
   "cell_type": "code",
   "execution_count": 20,
   "id": "eb8ddcc5",
   "metadata": {},
   "outputs": [
    {
     "data": {
      "text/html": [
       "<div>\n",
       "<style scoped>\n",
       "    .dataframe tbody tr th:only-of-type {\n",
       "        vertical-align: middle;\n",
       "    }\n",
       "\n",
       "    .dataframe tbody tr th {\n",
       "        vertical-align: top;\n",
       "    }\n",
       "\n",
       "    .dataframe thead th {\n",
       "        text-align: right;\n",
       "    }\n",
       "</style>\n",
       "<table border=\"1\" class=\"dataframe\">\n",
       "  <thead>\n",
       "    <tr style=\"text-align: right;\">\n",
       "      <th></th>\n",
       "      <th>Manufacturer</th>\n",
       "      <th>Model</th>\n",
       "      <th>Engine size</th>\n",
       "      <th>Fuel type</th>\n",
       "      <th>Year of manufacture</th>\n",
       "      <th>Mileage</th>\n",
       "      <th>Price</th>\n",
       "      <th>Ford</th>\n",
       "      <th>Porsche</th>\n",
       "      <th>Toyota</th>\n",
       "      <th>...</th>\n",
       "      <th>Mondeo</th>\n",
       "      <th>Passat</th>\n",
       "      <th>Polo</th>\n",
       "      <th>Prius</th>\n",
       "      <th>RAV4</th>\n",
       "      <th>X3</th>\n",
       "      <th>Yaris</th>\n",
       "      <th>Z4</th>\n",
       "      <th>Hybrid</th>\n",
       "      <th>Petrol</th>\n",
       "    </tr>\n",
       "  </thead>\n",
       "  <tbody>\n",
       "    <tr>\n",
       "      <th>0</th>\n",
       "      <td>Ford</td>\n",
       "      <td>Fiesta</td>\n",
       "      <td>1.0</td>\n",
       "      <td>Petrol</td>\n",
       "      <td>2002</td>\n",
       "      <td>127300</td>\n",
       "      <td>3074</td>\n",
       "      <td>1</td>\n",
       "      <td>0</td>\n",
       "      <td>0</td>\n",
       "      <td>...</td>\n",
       "      <td>0</td>\n",
       "      <td>0</td>\n",
       "      <td>0</td>\n",
       "      <td>0</td>\n",
       "      <td>0</td>\n",
       "      <td>0</td>\n",
       "      <td>0</td>\n",
       "      <td>0</td>\n",
       "      <td>0</td>\n",
       "      <td>1</td>\n",
       "    </tr>\n",
       "    <tr>\n",
       "      <th>2</th>\n",
       "      <td>Ford</td>\n",
       "      <td>Mondeo</td>\n",
       "      <td>1.6</td>\n",
       "      <td>Diesel</td>\n",
       "      <td>2014</td>\n",
       "      <td>39190</td>\n",
       "      <td>24072</td>\n",
       "      <td>1</td>\n",
       "      <td>0</td>\n",
       "      <td>0</td>\n",
       "      <td>...</td>\n",
       "      <td>1</td>\n",
       "      <td>0</td>\n",
       "      <td>0</td>\n",
       "      <td>0</td>\n",
       "      <td>0</td>\n",
       "      <td>0</td>\n",
       "      <td>0</td>\n",
       "      <td>0</td>\n",
       "      <td>0</td>\n",
       "      <td>0</td>\n",
       "    </tr>\n",
       "    <tr>\n",
       "      <th>3</th>\n",
       "      <td>Toyota</td>\n",
       "      <td>RAV4</td>\n",
       "      <td>1.8</td>\n",
       "      <td>Hybrid</td>\n",
       "      <td>1988</td>\n",
       "      <td>210814</td>\n",
       "      <td>1705</td>\n",
       "      <td>0</td>\n",
       "      <td>0</td>\n",
       "      <td>1</td>\n",
       "      <td>...</td>\n",
       "      <td>0</td>\n",
       "      <td>0</td>\n",
       "      <td>0</td>\n",
       "      <td>0</td>\n",
       "      <td>1</td>\n",
       "      <td>0</td>\n",
       "      <td>0</td>\n",
       "      <td>0</td>\n",
       "      <td>1</td>\n",
       "      <td>0</td>\n",
       "    </tr>\n",
       "    <tr>\n",
       "      <th>4</th>\n",
       "      <td>VW</td>\n",
       "      <td>Polo</td>\n",
       "      <td>1.0</td>\n",
       "      <td>Petrol</td>\n",
       "      <td>2006</td>\n",
       "      <td>127869</td>\n",
       "      <td>4101</td>\n",
       "      <td>0</td>\n",
       "      <td>0</td>\n",
       "      <td>0</td>\n",
       "      <td>...</td>\n",
       "      <td>0</td>\n",
       "      <td>0</td>\n",
       "      <td>1</td>\n",
       "      <td>0</td>\n",
       "      <td>0</td>\n",
       "      <td>0</td>\n",
       "      <td>0</td>\n",
       "      <td>0</td>\n",
       "      <td>0</td>\n",
       "      <td>1</td>\n",
       "    </tr>\n",
       "    <tr>\n",
       "      <th>5</th>\n",
       "      <td>Ford</td>\n",
       "      <td>Focus</td>\n",
       "      <td>1.4</td>\n",
       "      <td>Petrol</td>\n",
       "      <td>2018</td>\n",
       "      <td>33603</td>\n",
       "      <td>29204</td>\n",
       "      <td>1</td>\n",
       "      <td>0</td>\n",
       "      <td>0</td>\n",
       "      <td>...</td>\n",
       "      <td>0</td>\n",
       "      <td>0</td>\n",
       "      <td>0</td>\n",
       "      <td>0</td>\n",
       "      <td>0</td>\n",
       "      <td>0</td>\n",
       "      <td>0</td>\n",
       "      <td>0</td>\n",
       "      <td>0</td>\n",
       "      <td>1</td>\n",
       "    </tr>\n",
       "    <tr>\n",
       "      <th>...</th>\n",
       "      <td>...</td>\n",
       "      <td>...</td>\n",
       "      <td>...</td>\n",
       "      <td>...</td>\n",
       "      <td>...</td>\n",
       "      <td>...</td>\n",
       "      <td>...</td>\n",
       "      <td>...</td>\n",
       "      <td>...</td>\n",
       "      <td>...</td>\n",
       "      <td>...</td>\n",
       "      <td>...</td>\n",
       "      <td>...</td>\n",
       "      <td>...</td>\n",
       "      <td>...</td>\n",
       "      <td>...</td>\n",
       "      <td>...</td>\n",
       "      <td>...</td>\n",
       "      <td>...</td>\n",
       "      <td>...</td>\n",
       "      <td>...</td>\n",
       "    </tr>\n",
       "    <tr>\n",
       "      <th>49993</th>\n",
       "      <td>Ford</td>\n",
       "      <td>Mondeo</td>\n",
       "      <td>1.8</td>\n",
       "      <td>Petrol</td>\n",
       "      <td>2003</td>\n",
       "      <td>120969</td>\n",
       "      <td>6654</td>\n",
       "      <td>1</td>\n",
       "      <td>0</td>\n",
       "      <td>0</td>\n",
       "      <td>...</td>\n",
       "      <td>1</td>\n",
       "      <td>0</td>\n",
       "      <td>0</td>\n",
       "      <td>0</td>\n",
       "      <td>0</td>\n",
       "      <td>0</td>\n",
       "      <td>0</td>\n",
       "      <td>0</td>\n",
       "      <td>0</td>\n",
       "      <td>1</td>\n",
       "    </tr>\n",
       "    <tr>\n",
       "      <th>49994</th>\n",
       "      <td>Toyota</td>\n",
       "      <td>RAV4</td>\n",
       "      <td>1.8</td>\n",
       "      <td>Hybrid</td>\n",
       "      <td>2002</td>\n",
       "      <td>101634</td>\n",
       "      <td>10639</td>\n",
       "      <td>0</td>\n",
       "      <td>0</td>\n",
       "      <td>1</td>\n",
       "      <td>...</td>\n",
       "      <td>0</td>\n",
       "      <td>0</td>\n",
       "      <td>0</td>\n",
       "      <td>0</td>\n",
       "      <td>1</td>\n",
       "      <td>0</td>\n",
       "      <td>0</td>\n",
       "      <td>0</td>\n",
       "      <td>1</td>\n",
       "      <td>0</td>\n",
       "    </tr>\n",
       "    <tr>\n",
       "      <th>49996</th>\n",
       "      <td>Toyota</td>\n",
       "      <td>Prius</td>\n",
       "      <td>1.8</td>\n",
       "      <td>Hybrid</td>\n",
       "      <td>2003</td>\n",
       "      <td>105120</td>\n",
       "      <td>9430</td>\n",
       "      <td>0</td>\n",
       "      <td>0</td>\n",
       "      <td>1</td>\n",
       "      <td>...</td>\n",
       "      <td>0</td>\n",
       "      <td>0</td>\n",
       "      <td>0</td>\n",
       "      <td>1</td>\n",
       "      <td>0</td>\n",
       "      <td>0</td>\n",
       "      <td>0</td>\n",
       "      <td>0</td>\n",
       "      <td>1</td>\n",
       "      <td>0</td>\n",
       "    </tr>\n",
       "    <tr>\n",
       "      <th>49998</th>\n",
       "      <td>Ford</td>\n",
       "      <td>Focus</td>\n",
       "      <td>1.0</td>\n",
       "      <td>Diesel</td>\n",
       "      <td>2016</td>\n",
       "      <td>26468</td>\n",
       "      <td>23630</td>\n",
       "      <td>1</td>\n",
       "      <td>0</td>\n",
       "      <td>0</td>\n",
       "      <td>...</td>\n",
       "      <td>0</td>\n",
       "      <td>0</td>\n",
       "      <td>0</td>\n",
       "      <td>0</td>\n",
       "      <td>0</td>\n",
       "      <td>0</td>\n",
       "      <td>0</td>\n",
       "      <td>0</td>\n",
       "      <td>0</td>\n",
       "      <td>0</td>\n",
       "    </tr>\n",
       "    <tr>\n",
       "      <th>49999</th>\n",
       "      <td>VW</td>\n",
       "      <td>Golf</td>\n",
       "      <td>1.4</td>\n",
       "      <td>Diesel</td>\n",
       "      <td>2012</td>\n",
       "      <td>109300</td>\n",
       "      <td>10400</td>\n",
       "      <td>0</td>\n",
       "      <td>0</td>\n",
       "      <td>0</td>\n",
       "      <td>...</td>\n",
       "      <td>0</td>\n",
       "      <td>0</td>\n",
       "      <td>0</td>\n",
       "      <td>0</td>\n",
       "      <td>0</td>\n",
       "      <td>0</td>\n",
       "      <td>0</td>\n",
       "      <td>0</td>\n",
       "      <td>0</td>\n",
       "      <td>0</td>\n",
       "    </tr>\n",
       "  </tbody>\n",
       "</table>\n",
       "<p>47339 rows × 27 columns</p>\n",
       "</div>"
      ],
      "text/plain": [
       "      Manufacturer   Model  Engine size Fuel type  Year of manufacture  \\\n",
       "0             Ford  Fiesta          1.0    Petrol                 2002   \n",
       "2             Ford  Mondeo          1.6    Diesel                 2014   \n",
       "3           Toyota    RAV4          1.8    Hybrid                 1988   \n",
       "4               VW    Polo          1.0    Petrol                 2006   \n",
       "5             Ford   Focus          1.4    Petrol                 2018   \n",
       "...            ...     ...          ...       ...                  ...   \n",
       "49993         Ford  Mondeo          1.8    Petrol                 2003   \n",
       "49994       Toyota    RAV4          1.8    Hybrid                 2002   \n",
       "49996       Toyota   Prius          1.8    Hybrid                 2003   \n",
       "49998         Ford   Focus          1.0    Diesel                 2016   \n",
       "49999           VW    Golf          1.4    Diesel                 2012   \n",
       "\n",
       "       Mileage  Price  Ford  Porsche  Toyota  ...  Mondeo  Passat  Polo  \\\n",
       "0       127300   3074     1        0       0  ...       0       0     0   \n",
       "2        39190  24072     1        0       0  ...       1       0     0   \n",
       "3       210814   1705     0        0       1  ...       0       0     0   \n",
       "4       127869   4101     0        0       0  ...       0       0     1   \n",
       "5        33603  29204     1        0       0  ...       0       0     0   \n",
       "...        ...    ...   ...      ...     ...  ...     ...     ...   ...   \n",
       "49993   120969   6654     1        0       0  ...       1       0     0   \n",
       "49994   101634  10639     0        0       1  ...       0       0     0   \n",
       "49996   105120   9430     0        0       1  ...       0       0     0   \n",
       "49998    26468  23630     1        0       0  ...       0       0     0   \n",
       "49999   109300  10400     0        0       0  ...       0       0     0   \n",
       "\n",
       "       Prius  RAV4  X3  Yaris  Z4  Hybrid  Petrol  \n",
       "0          0     0   0      0   0       0       1  \n",
       "2          0     0   0      0   0       0       0  \n",
       "3          0     1   0      0   0       1       0  \n",
       "4          0     0   0      0   0       0       1  \n",
       "5          0     0   0      0   0       0       1  \n",
       "...      ...   ...  ..    ...  ..     ...     ...  \n",
       "49993      0     0   0      0   0       0       1  \n",
       "49994      0     1   0      0   0       1       0  \n",
       "49996      1     0   0      0   0       1       0  \n",
       "49998      0     0   0      0   0       0       0  \n",
       "49999      0     0   0      0   0       0       0  \n",
       "\n",
       "[47339 rows x 27 columns]"
      ]
     },
     "execution_count": 20,
     "metadata": {},
     "output_type": "execute_result"
    }
   ],
   "source": [
    "car_data = pd.concat([car_data, manufacturer, model, fuel_type], axis = 1)\n",
    "car_data"
   ]
  },
  {
   "cell_type": "code",
   "execution_count": 21,
   "id": "f9a22cbf",
   "metadata": {},
   "outputs": [
    {
     "data": {
      "text/html": [
       "<div>\n",
       "<style scoped>\n",
       "    .dataframe tbody tr th:only-of-type {\n",
       "        vertical-align: middle;\n",
       "    }\n",
       "\n",
       "    .dataframe tbody tr th {\n",
       "        vertical-align: top;\n",
       "    }\n",
       "\n",
       "    .dataframe thead th {\n",
       "        text-align: right;\n",
       "    }\n",
       "</style>\n",
       "<table border=\"1\" class=\"dataframe\">\n",
       "  <thead>\n",
       "    <tr style=\"text-align: right;\">\n",
       "      <th></th>\n",
       "      <th>Engine size</th>\n",
       "      <th>Year of manufacture</th>\n",
       "      <th>Mileage</th>\n",
       "      <th>Price</th>\n",
       "      <th>Ford</th>\n",
       "      <th>Porsche</th>\n",
       "      <th>Toyota</th>\n",
       "      <th>VW</th>\n",
       "      <th>911</th>\n",
       "      <th>Cayenne</th>\n",
       "      <th>...</th>\n",
       "      <th>Mondeo</th>\n",
       "      <th>Passat</th>\n",
       "      <th>Polo</th>\n",
       "      <th>Prius</th>\n",
       "      <th>RAV4</th>\n",
       "      <th>X3</th>\n",
       "      <th>Yaris</th>\n",
       "      <th>Z4</th>\n",
       "      <th>Hybrid</th>\n",
       "      <th>Petrol</th>\n",
       "    </tr>\n",
       "  </thead>\n",
       "  <tbody>\n",
       "    <tr>\n",
       "      <th>0</th>\n",
       "      <td>1.0</td>\n",
       "      <td>2002</td>\n",
       "      <td>127300</td>\n",
       "      <td>3074</td>\n",
       "      <td>1</td>\n",
       "      <td>0</td>\n",
       "      <td>0</td>\n",
       "      <td>0</td>\n",
       "      <td>0</td>\n",
       "      <td>0</td>\n",
       "      <td>...</td>\n",
       "      <td>0</td>\n",
       "      <td>0</td>\n",
       "      <td>0</td>\n",
       "      <td>0</td>\n",
       "      <td>0</td>\n",
       "      <td>0</td>\n",
       "      <td>0</td>\n",
       "      <td>0</td>\n",
       "      <td>0</td>\n",
       "      <td>1</td>\n",
       "    </tr>\n",
       "    <tr>\n",
       "      <th>2</th>\n",
       "      <td>1.6</td>\n",
       "      <td>2014</td>\n",
       "      <td>39190</td>\n",
       "      <td>24072</td>\n",
       "      <td>1</td>\n",
       "      <td>0</td>\n",
       "      <td>0</td>\n",
       "      <td>0</td>\n",
       "      <td>0</td>\n",
       "      <td>0</td>\n",
       "      <td>...</td>\n",
       "      <td>1</td>\n",
       "      <td>0</td>\n",
       "      <td>0</td>\n",
       "      <td>0</td>\n",
       "      <td>0</td>\n",
       "      <td>0</td>\n",
       "      <td>0</td>\n",
       "      <td>0</td>\n",
       "      <td>0</td>\n",
       "      <td>0</td>\n",
       "    </tr>\n",
       "    <tr>\n",
       "      <th>3</th>\n",
       "      <td>1.8</td>\n",
       "      <td>1988</td>\n",
       "      <td>210814</td>\n",
       "      <td>1705</td>\n",
       "      <td>0</td>\n",
       "      <td>0</td>\n",
       "      <td>1</td>\n",
       "      <td>0</td>\n",
       "      <td>0</td>\n",
       "      <td>0</td>\n",
       "      <td>...</td>\n",
       "      <td>0</td>\n",
       "      <td>0</td>\n",
       "      <td>0</td>\n",
       "      <td>0</td>\n",
       "      <td>1</td>\n",
       "      <td>0</td>\n",
       "      <td>0</td>\n",
       "      <td>0</td>\n",
       "      <td>1</td>\n",
       "      <td>0</td>\n",
       "    </tr>\n",
       "    <tr>\n",
       "      <th>4</th>\n",
       "      <td>1.0</td>\n",
       "      <td>2006</td>\n",
       "      <td>127869</td>\n",
       "      <td>4101</td>\n",
       "      <td>0</td>\n",
       "      <td>0</td>\n",
       "      <td>0</td>\n",
       "      <td>1</td>\n",
       "      <td>0</td>\n",
       "      <td>0</td>\n",
       "      <td>...</td>\n",
       "      <td>0</td>\n",
       "      <td>0</td>\n",
       "      <td>1</td>\n",
       "      <td>0</td>\n",
       "      <td>0</td>\n",
       "      <td>0</td>\n",
       "      <td>0</td>\n",
       "      <td>0</td>\n",
       "      <td>0</td>\n",
       "      <td>1</td>\n",
       "    </tr>\n",
       "    <tr>\n",
       "      <th>5</th>\n",
       "      <td>1.4</td>\n",
       "      <td>2018</td>\n",
       "      <td>33603</td>\n",
       "      <td>29204</td>\n",
       "      <td>1</td>\n",
       "      <td>0</td>\n",
       "      <td>0</td>\n",
       "      <td>0</td>\n",
       "      <td>0</td>\n",
       "      <td>0</td>\n",
       "      <td>...</td>\n",
       "      <td>0</td>\n",
       "      <td>0</td>\n",
       "      <td>0</td>\n",
       "      <td>0</td>\n",
       "      <td>0</td>\n",
       "      <td>0</td>\n",
       "      <td>0</td>\n",
       "      <td>0</td>\n",
       "      <td>0</td>\n",
       "      <td>1</td>\n",
       "    </tr>\n",
       "    <tr>\n",
       "      <th>...</th>\n",
       "      <td>...</td>\n",
       "      <td>...</td>\n",
       "      <td>...</td>\n",
       "      <td>...</td>\n",
       "      <td>...</td>\n",
       "      <td>...</td>\n",
       "      <td>...</td>\n",
       "      <td>...</td>\n",
       "      <td>...</td>\n",
       "      <td>...</td>\n",
       "      <td>...</td>\n",
       "      <td>...</td>\n",
       "      <td>...</td>\n",
       "      <td>...</td>\n",
       "      <td>...</td>\n",
       "      <td>...</td>\n",
       "      <td>...</td>\n",
       "      <td>...</td>\n",
       "      <td>...</td>\n",
       "      <td>...</td>\n",
       "      <td>...</td>\n",
       "    </tr>\n",
       "    <tr>\n",
       "      <th>49993</th>\n",
       "      <td>1.8</td>\n",
       "      <td>2003</td>\n",
       "      <td>120969</td>\n",
       "      <td>6654</td>\n",
       "      <td>1</td>\n",
       "      <td>0</td>\n",
       "      <td>0</td>\n",
       "      <td>0</td>\n",
       "      <td>0</td>\n",
       "      <td>0</td>\n",
       "      <td>...</td>\n",
       "      <td>1</td>\n",
       "      <td>0</td>\n",
       "      <td>0</td>\n",
       "      <td>0</td>\n",
       "      <td>0</td>\n",
       "      <td>0</td>\n",
       "      <td>0</td>\n",
       "      <td>0</td>\n",
       "      <td>0</td>\n",
       "      <td>1</td>\n",
       "    </tr>\n",
       "    <tr>\n",
       "      <th>49994</th>\n",
       "      <td>1.8</td>\n",
       "      <td>2002</td>\n",
       "      <td>101634</td>\n",
       "      <td>10639</td>\n",
       "      <td>0</td>\n",
       "      <td>0</td>\n",
       "      <td>1</td>\n",
       "      <td>0</td>\n",
       "      <td>0</td>\n",
       "      <td>0</td>\n",
       "      <td>...</td>\n",
       "      <td>0</td>\n",
       "      <td>0</td>\n",
       "      <td>0</td>\n",
       "      <td>0</td>\n",
       "      <td>1</td>\n",
       "      <td>0</td>\n",
       "      <td>0</td>\n",
       "      <td>0</td>\n",
       "      <td>1</td>\n",
       "      <td>0</td>\n",
       "    </tr>\n",
       "    <tr>\n",
       "      <th>49996</th>\n",
       "      <td>1.8</td>\n",
       "      <td>2003</td>\n",
       "      <td>105120</td>\n",
       "      <td>9430</td>\n",
       "      <td>0</td>\n",
       "      <td>0</td>\n",
       "      <td>1</td>\n",
       "      <td>0</td>\n",
       "      <td>0</td>\n",
       "      <td>0</td>\n",
       "      <td>...</td>\n",
       "      <td>0</td>\n",
       "      <td>0</td>\n",
       "      <td>0</td>\n",
       "      <td>1</td>\n",
       "      <td>0</td>\n",
       "      <td>0</td>\n",
       "      <td>0</td>\n",
       "      <td>0</td>\n",
       "      <td>1</td>\n",
       "      <td>0</td>\n",
       "    </tr>\n",
       "    <tr>\n",
       "      <th>49998</th>\n",
       "      <td>1.0</td>\n",
       "      <td>2016</td>\n",
       "      <td>26468</td>\n",
       "      <td>23630</td>\n",
       "      <td>1</td>\n",
       "      <td>0</td>\n",
       "      <td>0</td>\n",
       "      <td>0</td>\n",
       "      <td>0</td>\n",
       "      <td>0</td>\n",
       "      <td>...</td>\n",
       "      <td>0</td>\n",
       "      <td>0</td>\n",
       "      <td>0</td>\n",
       "      <td>0</td>\n",
       "      <td>0</td>\n",
       "      <td>0</td>\n",
       "      <td>0</td>\n",
       "      <td>0</td>\n",
       "      <td>0</td>\n",
       "      <td>0</td>\n",
       "    </tr>\n",
       "    <tr>\n",
       "      <th>49999</th>\n",
       "      <td>1.4</td>\n",
       "      <td>2012</td>\n",
       "      <td>109300</td>\n",
       "      <td>10400</td>\n",
       "      <td>0</td>\n",
       "      <td>0</td>\n",
       "      <td>0</td>\n",
       "      <td>1</td>\n",
       "      <td>0</td>\n",
       "      <td>0</td>\n",
       "      <td>...</td>\n",
       "      <td>0</td>\n",
       "      <td>0</td>\n",
       "      <td>0</td>\n",
       "      <td>0</td>\n",
       "      <td>0</td>\n",
       "      <td>0</td>\n",
       "      <td>0</td>\n",
       "      <td>0</td>\n",
       "      <td>0</td>\n",
       "      <td>0</td>\n",
       "    </tr>\n",
       "  </tbody>\n",
       "</table>\n",
       "<p>47339 rows × 24 columns</p>\n",
       "</div>"
      ],
      "text/plain": [
       "       Engine size  Year of manufacture  Mileage  Price  Ford  Porsche  \\\n",
       "0              1.0                 2002   127300   3074     1        0   \n",
       "2              1.6                 2014    39190  24072     1        0   \n",
       "3              1.8                 1988   210814   1705     0        0   \n",
       "4              1.0                 2006   127869   4101     0        0   \n",
       "5              1.4                 2018    33603  29204     1        0   \n",
       "...            ...                  ...      ...    ...   ...      ...   \n",
       "49993          1.8                 2003   120969   6654     1        0   \n",
       "49994          1.8                 2002   101634  10639     0        0   \n",
       "49996          1.8                 2003   105120   9430     0        0   \n",
       "49998          1.0                 2016    26468  23630     1        0   \n",
       "49999          1.4                 2012   109300  10400     0        0   \n",
       "\n",
       "       Toyota  VW  911  Cayenne  ...  Mondeo  Passat  Polo  Prius  RAV4  X3  \\\n",
       "0           0   0    0        0  ...       0       0     0      0     0   0   \n",
       "2           0   0    0        0  ...       1       0     0      0     0   0   \n",
       "3           1   0    0        0  ...       0       0     0      0     1   0   \n",
       "4           0   1    0        0  ...       0       0     1      0     0   0   \n",
       "5           0   0    0        0  ...       0       0     0      0     0   0   \n",
       "...       ...  ..  ...      ...  ...     ...     ...   ...    ...   ...  ..   \n",
       "49993       0   0    0        0  ...       1       0     0      0     0   0   \n",
       "49994       1   0    0        0  ...       0       0     0      0     1   0   \n",
       "49996       1   0    0        0  ...       0       0     0      1     0   0   \n",
       "49998       0   0    0        0  ...       0       0     0      0     0   0   \n",
       "49999       0   1    0        0  ...       0       0     0      0     0   0   \n",
       "\n",
       "       Yaris  Z4  Hybrid  Petrol  \n",
       "0          0   0       0       1  \n",
       "2          0   0       0       0  \n",
       "3          0   0       1       0  \n",
       "4          0   0       0       1  \n",
       "5          0   0       0       1  \n",
       "...      ...  ..     ...     ...  \n",
       "49993      0   0       0       1  \n",
       "49994      0   0       1       0  \n",
       "49996      0   0       1       0  \n",
       "49998      0   0       0       0  \n",
       "49999      0   0       0       0  \n",
       "\n",
       "[47339 rows x 24 columns]"
      ]
     },
     "execution_count": 21,
     "metadata": {},
     "output_type": "execute_result"
    }
   ],
   "source": [
    "car_data = car_data.drop(['Manufacturer','Model','Fuel type'], axis = 1)\n",
    "car_data"
   ]
  },
  {
   "cell_type": "code",
   "execution_count": 22,
   "id": "47951149",
   "metadata": {},
   "outputs": [],
   "source": [
    "y = car_data['Price']\n",
    "X = car_data.drop('Price', axis = 1)"
   ]
  },
  {
   "cell_type": "code",
   "execution_count": 23,
   "id": "17abdde6",
   "metadata": {},
   "outputs": [
    {
     "data": {
      "text/html": [
       "<div>\n",
       "<style scoped>\n",
       "    .dataframe tbody tr th:only-of-type {\n",
       "        vertical-align: middle;\n",
       "    }\n",
       "\n",
       "    .dataframe tbody tr th {\n",
       "        vertical-align: top;\n",
       "    }\n",
       "\n",
       "    .dataframe thead th {\n",
       "        text-align: right;\n",
       "    }\n",
       "</style>\n",
       "<table border=\"1\" class=\"dataframe\">\n",
       "  <thead>\n",
       "    <tr style=\"text-align: right;\">\n",
       "      <th></th>\n",
       "      <th>Engine size</th>\n",
       "      <th>Year of manufacture</th>\n",
       "      <th>Mileage</th>\n",
       "      <th>Ford</th>\n",
       "      <th>Porsche</th>\n",
       "      <th>Toyota</th>\n",
       "      <th>VW</th>\n",
       "      <th>911</th>\n",
       "      <th>Cayenne</th>\n",
       "      <th>Fiesta</th>\n",
       "      <th>...</th>\n",
       "      <th>Mondeo</th>\n",
       "      <th>Passat</th>\n",
       "      <th>Polo</th>\n",
       "      <th>Prius</th>\n",
       "      <th>RAV4</th>\n",
       "      <th>X3</th>\n",
       "      <th>Yaris</th>\n",
       "      <th>Z4</th>\n",
       "      <th>Hybrid</th>\n",
       "      <th>Petrol</th>\n",
       "    </tr>\n",
       "  </thead>\n",
       "  <tbody>\n",
       "    <tr>\n",
       "      <th>0</th>\n",
       "      <td>1.0</td>\n",
       "      <td>2002</td>\n",
       "      <td>127300</td>\n",
       "      <td>1</td>\n",
       "      <td>0</td>\n",
       "      <td>0</td>\n",
       "      <td>0</td>\n",
       "      <td>0</td>\n",
       "      <td>0</td>\n",
       "      <td>1</td>\n",
       "      <td>...</td>\n",
       "      <td>0</td>\n",
       "      <td>0</td>\n",
       "      <td>0</td>\n",
       "      <td>0</td>\n",
       "      <td>0</td>\n",
       "      <td>0</td>\n",
       "      <td>0</td>\n",
       "      <td>0</td>\n",
       "      <td>0</td>\n",
       "      <td>1</td>\n",
       "    </tr>\n",
       "    <tr>\n",
       "      <th>2</th>\n",
       "      <td>1.6</td>\n",
       "      <td>2014</td>\n",
       "      <td>39190</td>\n",
       "      <td>1</td>\n",
       "      <td>0</td>\n",
       "      <td>0</td>\n",
       "      <td>0</td>\n",
       "      <td>0</td>\n",
       "      <td>0</td>\n",
       "      <td>0</td>\n",
       "      <td>...</td>\n",
       "      <td>1</td>\n",
       "      <td>0</td>\n",
       "      <td>0</td>\n",
       "      <td>0</td>\n",
       "      <td>0</td>\n",
       "      <td>0</td>\n",
       "      <td>0</td>\n",
       "      <td>0</td>\n",
       "      <td>0</td>\n",
       "      <td>0</td>\n",
       "    </tr>\n",
       "    <tr>\n",
       "      <th>3</th>\n",
       "      <td>1.8</td>\n",
       "      <td>1988</td>\n",
       "      <td>210814</td>\n",
       "      <td>0</td>\n",
       "      <td>0</td>\n",
       "      <td>1</td>\n",
       "      <td>0</td>\n",
       "      <td>0</td>\n",
       "      <td>0</td>\n",
       "      <td>0</td>\n",
       "      <td>...</td>\n",
       "      <td>0</td>\n",
       "      <td>0</td>\n",
       "      <td>0</td>\n",
       "      <td>0</td>\n",
       "      <td>1</td>\n",
       "      <td>0</td>\n",
       "      <td>0</td>\n",
       "      <td>0</td>\n",
       "      <td>1</td>\n",
       "      <td>0</td>\n",
       "    </tr>\n",
       "    <tr>\n",
       "      <th>4</th>\n",
       "      <td>1.0</td>\n",
       "      <td>2006</td>\n",
       "      <td>127869</td>\n",
       "      <td>0</td>\n",
       "      <td>0</td>\n",
       "      <td>0</td>\n",
       "      <td>1</td>\n",
       "      <td>0</td>\n",
       "      <td>0</td>\n",
       "      <td>0</td>\n",
       "      <td>...</td>\n",
       "      <td>0</td>\n",
       "      <td>0</td>\n",
       "      <td>1</td>\n",
       "      <td>0</td>\n",
       "      <td>0</td>\n",
       "      <td>0</td>\n",
       "      <td>0</td>\n",
       "      <td>0</td>\n",
       "      <td>0</td>\n",
       "      <td>1</td>\n",
       "    </tr>\n",
       "    <tr>\n",
       "      <th>5</th>\n",
       "      <td>1.4</td>\n",
       "      <td>2018</td>\n",
       "      <td>33603</td>\n",
       "      <td>1</td>\n",
       "      <td>0</td>\n",
       "      <td>0</td>\n",
       "      <td>0</td>\n",
       "      <td>0</td>\n",
       "      <td>0</td>\n",
       "      <td>0</td>\n",
       "      <td>...</td>\n",
       "      <td>0</td>\n",
       "      <td>0</td>\n",
       "      <td>0</td>\n",
       "      <td>0</td>\n",
       "      <td>0</td>\n",
       "      <td>0</td>\n",
       "      <td>0</td>\n",
       "      <td>0</td>\n",
       "      <td>0</td>\n",
       "      <td>1</td>\n",
       "    </tr>\n",
       "  </tbody>\n",
       "</table>\n",
       "<p>5 rows × 23 columns</p>\n",
       "</div>"
      ],
      "text/plain": [
       "   Engine size  Year of manufacture  Mileage  Ford  Porsche  Toyota  VW  911  \\\n",
       "0          1.0                 2002   127300     1        0       0   0    0   \n",
       "2          1.6                 2014    39190     1        0       0   0    0   \n",
       "3          1.8                 1988   210814     0        0       1   0    0   \n",
       "4          1.0                 2006   127869     0        0       0   1    0   \n",
       "5          1.4                 2018    33603     1        0       0   0    0   \n",
       "\n",
       "   Cayenne  Fiesta  ...  Mondeo  Passat  Polo  Prius  RAV4  X3  Yaris  Z4  \\\n",
       "0        0       1  ...       0       0     0      0     0   0      0   0   \n",
       "2        0       0  ...       1       0     0      0     0   0      0   0   \n",
       "3        0       0  ...       0       0     0      0     1   0      0   0   \n",
       "4        0       0  ...       0       0     1      0     0   0      0   0   \n",
       "5        0       0  ...       0       0     0      0     0   0      0   0   \n",
       "\n",
       "   Hybrid  Petrol  \n",
       "0       0       1  \n",
       "2       0       0  \n",
       "3       1       0  \n",
       "4       0       1  \n",
       "5       0       1  \n",
       "\n",
       "[5 rows x 23 columns]"
      ]
     },
     "execution_count": 23,
     "metadata": {},
     "output_type": "execute_result"
    }
   ],
   "source": [
    "X.head()"
   ]
  },
  {
   "cell_type": "markdown",
   "id": "4cd3323c",
   "metadata": {},
   "source": [
    "Using Linear Regression Model."
   ]
  },
  {
   "cell_type": "code",
   "execution_count": 24,
   "id": "dc77c7e2",
   "metadata": {},
   "outputs": [],
   "source": [
    "X_train, X_test, y_train, y_test = train_test_split(X,y, test_size=0.2, random_state=1)\n",
    "\n",
    "price_model = LinearRegression()\n",
    "price_model.fit(X_train, y_train)\n",
    "pre_y = price_model.predict(X_test)"
   ]
  },
  {
   "cell_type": "code",
   "execution_count": 25,
   "id": "b95fe663",
   "metadata": {},
   "outputs": [
    {
     "data": {
      "text/plain": [
       "0.808185698127409"
      ]
     },
     "execution_count": 25,
     "metadata": {},
     "output_type": "execute_result"
    }
   ],
   "source": [
    "r2_score = r2_score(y_test, pre_y)\n",
    "r2_score"
   ]
  },
  {
   "cell_type": "code",
   "execution_count": 26,
   "id": "1be84199",
   "metadata": {},
   "outputs": [
    {
     "data": {
      "text/plain": [
       "3561.330915345473"
      ]
     },
     "execution_count": 26,
     "metadata": {},
     "output_type": "execute_result"
    }
   ],
   "source": [
    "mae = mean_absolute_error(y_test, pre_y)\n",
    "mae"
   ]
  },
  {
   "cell_type": "code",
   "execution_count": 27,
   "id": "48806c77",
   "metadata": {},
   "outputs": [
    {
     "data": {
      "application/vnd.plotly.v1+json": {
       "config": {
        "plotlyServerURL": "https://plot.ly"
       },
       "data": [
        {
         "hovertemplate": "x=%{x}<br>y=%{y}<extra></extra>",
         "legendgroup": "",
         "marker": {
          "color": "#636efa",
          "symbol": "circle"
         },
         "mode": "markers",
         "name": "",
         "showlegend": false,
         "type": "scattergl",
         "x": {
          "bdata": "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",
          "dtype": "f8"
         },
         "xaxis": "x",
         "y": {
          "bdata": "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",
          "dtype": "f8"
         },
         "yaxis": "y"
        }
       ],
       "layout": {
        "legend": {
         "tracegroupgap": 0
        },
        "shapes": [
         {
          "line": {
           "color": "darkblue"
          },
          "type": "line",
          "x0": 0,
          "x1": 1,
          "xref": "x domain",
          "y0": 0,
          "y1": 0,
          "yref": "y"
         }
        ],
        "template": {
         "data": {
          "bar": [
           {
            "error_x": {
             "color": "#2a3f5f"
            },
            "error_y": {
             "color": "#2a3f5f"
            },
            "marker": {
             "line": {
              "color": "#E5ECF6",
              "width": 0.5
             },
             "pattern": {
              "fillmode": "overlay",
              "size": 10,
              "solidity": 0.2
             }
            },
            "type": "bar"
           }
          ],
          "barpolar": [
           {
            "marker": {
             "line": {
              "color": "#E5ECF6",
              "width": 0.5
             },
             "pattern": {
              "fillmode": "overlay",
              "size": 10,
              "solidity": 0.2
             }
            },
            "type": "barpolar"
           }
          ],
          "carpet": [
           {
            "aaxis": {
             "endlinecolor": "#2a3f5f",
             "gridcolor": "white",
             "linecolor": "white",
             "minorgridcolor": "white",
             "startlinecolor": "#2a3f5f"
            },
            "baxis": {
             "endlinecolor": "#2a3f5f",
             "gridcolor": "white",
             "linecolor": "white",
             "minorgridcolor": "white",
             "startlinecolor": "#2a3f5f"
            },
            "type": "carpet"
           }
          ],
          "choropleth": [
           {
            "colorbar": {
             "outlinewidth": 0,
             "ticks": ""
            },
            "type": "choropleth"
           }
          ],
          "contour": [
           {
            "colorbar": {
             "outlinewidth": 0,
             "ticks": ""
            },
            "colorscale": [
             [
              0,
              "#0d0887"
             ],
             [
              0.1111111111111111,
              "#46039f"
             ],
             [
              0.2222222222222222,
              "#7201a8"
             ],
             [
              0.3333333333333333,
              "#9c179e"
             ],
             [
              0.4444444444444444,
              "#bd3786"
             ],
             [
              0.5555555555555556,
              "#d8576b"
             ],
             [
              0.6666666666666666,
              "#ed7953"
             ],
             [
              0.7777777777777778,
              "#fb9f3a"
             ],
             [
              0.8888888888888888,
              "#fdca26"
             ],
             [
              1,
              "#f0f921"
             ]
            ],
            "type": "contour"
           }
          ],
          "contourcarpet": [
           {
            "colorbar": {
             "outlinewidth": 0,
             "ticks": ""
            },
            "type": "contourcarpet"
           }
          ],
          "heatmap": [
           {
            "colorbar": {
             "outlinewidth": 0,
             "ticks": ""
            },
            "colorscale": [
             [
              0,
              "#0d0887"
             ],
             [
              0.1111111111111111,
              "#46039f"
             ],
             [
              0.2222222222222222,
              "#7201a8"
             ],
             [
              0.3333333333333333,
              "#9c179e"
             ],
             [
              0.4444444444444444,
              "#bd3786"
             ],
             [
              0.5555555555555556,
              "#d8576b"
             ],
             [
              0.6666666666666666,
              "#ed7953"
             ],
             [
              0.7777777777777778,
              "#fb9f3a"
             ],
             [
              0.8888888888888888,
              "#fdca26"
             ],
             [
              1,
              "#f0f921"
             ]
            ],
            "type": "heatmap"
           }
          ],
          "histogram": [
           {
            "marker": {
             "pattern": {
              "fillmode": "overlay",
              "size": 10,
              "solidity": 0.2
             }
            },
            "type": "histogram"
           }
          ],
          "histogram2d": [
           {
            "colorbar": {
             "outlinewidth": 0,
             "ticks": ""
            },
            "colorscale": [
             [
              0,
              "#0d0887"
             ],
             [
              0.1111111111111111,
              "#46039f"
             ],
             [
              0.2222222222222222,
              "#7201a8"
             ],
             [
              0.3333333333333333,
              "#9c179e"
             ],
             [
              0.4444444444444444,
              "#bd3786"
             ],
             [
              0.5555555555555556,
              "#d8576b"
             ],
             [
              0.6666666666666666,
              "#ed7953"
             ],
             [
              0.7777777777777778,
              "#fb9f3a"
             ],
             [
              0.8888888888888888,
              "#fdca26"
             ],
             [
              1,
              "#f0f921"
             ]
            ],
            "type": "histogram2d"
           }
          ],
          "histogram2dcontour": [
           {
            "colorbar": {
             "outlinewidth": 0,
             "ticks": ""
            },
            "colorscale": [
             [
              0,
              "#0d0887"
             ],
             [
              0.1111111111111111,
              "#46039f"
             ],
             [
              0.2222222222222222,
              "#7201a8"
             ],
             [
              0.3333333333333333,
              "#9c179e"
             ],
             [
              0.4444444444444444,
              "#bd3786"
             ],
             [
              0.5555555555555556,
              "#d8576b"
             ],
             [
              0.6666666666666666,
              "#ed7953"
             ],
             [
              0.7777777777777778,
              "#fb9f3a"
             ],
             [
              0.8888888888888888,
              "#fdca26"
             ],
             [
              1,
              "#f0f921"
             ]
            ],
            "type": "histogram2dcontour"
           }
          ],
          "mesh3d": [
           {
            "colorbar": {
             "outlinewidth": 0,
             "ticks": ""
            },
            "type": "mesh3d"
           }
          ],
          "parcoords": [
           {
            "line": {
             "colorbar": {
              "outlinewidth": 0,
              "ticks": ""
             }
            },
            "type": "parcoords"
           }
          ],
          "pie": [
           {
            "automargin": true,
            "type": "pie"
           }
          ],
          "scatter": [
           {
            "fillpattern": {
             "fillmode": "overlay",
             "size": 10,
             "solidity": 0.2
            },
            "type": "scatter"
           }
          ],
          "scatter3d": [
           {
            "line": {
             "colorbar": {
              "outlinewidth": 0,
              "ticks": ""
             }
            },
            "marker": {
             "colorbar": {
              "outlinewidth": 0,
              "ticks": ""
             }
            },
            "type": "scatter3d"
           }
          ],
          "scattercarpet": [
           {
            "marker": {
             "colorbar": {
              "outlinewidth": 0,
              "ticks": ""
             }
            },
            "type": "scattercarpet"
           }
          ],
          "scattergeo": [
           {
            "marker": {
             "colorbar": {
              "outlinewidth": 0,
              "ticks": ""
             }
            },
            "type": "scattergeo"
           }
          ],
          "scattergl": [
           {
            "marker": {
             "colorbar": {
              "outlinewidth": 0,
              "ticks": ""
             }
            },
            "type": "scattergl"
           }
          ],
          "scattermap": [
           {
            "marker": {
             "colorbar": {
              "outlinewidth": 0,
              "ticks": ""
             }
            },
            "type": "scattermap"
           }
          ],
          "scattermapbox": [
           {
            "marker": {
             "colorbar": {
              "outlinewidth": 0,
              "ticks": ""
             }
            },
            "type": "scattermapbox"
           }
          ],
          "scatterpolar": [
           {
            "marker": {
             "colorbar": {
              "outlinewidth": 0,
              "ticks": ""
             }
            },
            "type": "scatterpolar"
           }
          ],
          "scatterpolargl": [
           {
            "marker": {
             "colorbar": {
              "outlinewidth": 0,
              "ticks": ""
             }
            },
            "type": "scatterpolargl"
           }
          ],
          "scatterternary": [
           {
            "marker": {
             "colorbar": {
              "outlinewidth": 0,
              "ticks": ""
             }
            },
            "type": "scatterternary"
           }
          ],
          "surface": [
           {
            "colorbar": {
             "outlinewidth": 0,
             "ticks": ""
            },
            "colorscale": [
             [
              0,
              "#0d0887"
             ],
             [
              0.1111111111111111,
              "#46039f"
             ],
             [
              0.2222222222222222,
              "#7201a8"
             ],
             [
              0.3333333333333333,
              "#9c179e"
             ],
             [
              0.4444444444444444,
              "#bd3786"
             ],
             [
              0.5555555555555556,
              "#d8576b"
             ],
             [
              0.6666666666666666,
              "#ed7953"
             ],
             [
              0.7777777777777778,
              "#fb9f3a"
             ],
             [
              0.8888888888888888,
              "#fdca26"
             ],
             [
              1,
              "#f0f921"
             ]
            ],
            "type": "surface"
           }
          ],
          "table": [
           {
            "cells": {
             "fill": {
              "color": "#EBF0F8"
             },
             "line": {
              "color": "white"
             }
            },
            "header": {
             "fill": {
              "color": "#C8D4E3"
             },
             "line": {
              "color": "white"
             }
            },
            "type": "table"
           }
          ]
         },
         "layout": {
          "annotationdefaults": {
           "arrowcolor": "#2a3f5f",
           "arrowhead": 0,
           "arrowwidth": 1
          },
          "autotypenumbers": "strict",
          "coloraxis": {
           "colorbar": {
            "outlinewidth": 0,
            "ticks": ""
           }
          },
          "colorscale": {
           "diverging": [
            [
             0,
             "#8e0152"
            ],
            [
             0.1,
             "#c51b7d"
            ],
            [
             0.2,
             "#de77ae"
            ],
            [
             0.3,
             "#f1b6da"
            ],
            [
             0.4,
             "#fde0ef"
            ],
            [
             0.5,
             "#f7f7f7"
            ],
            [
             0.6,
             "#e6f5d0"
            ],
            [
             0.7,
             "#b8e186"
            ],
            [
             0.8,
             "#7fbc41"
            ],
            [
             0.9,
             "#4d9221"
            ],
            [
             1,
             "#276419"
            ]
           ],
           "sequential": [
            [
             0,
             "#0d0887"
            ],
            [
             0.1111111111111111,
             "#46039f"
            ],
            [
             0.2222222222222222,
             "#7201a8"
            ],
            [
             0.3333333333333333,
             "#9c179e"
            ],
            [
             0.4444444444444444,
             "#bd3786"
            ],
            [
             0.5555555555555556,
             "#d8576b"
            ],
            [
             0.6666666666666666,
             "#ed7953"
            ],
            [
             0.7777777777777778,
             "#fb9f3a"
            ],
            [
             0.8888888888888888,
             "#fdca26"
            ],
            [
             1,
             "#f0f921"
            ]
           ],
           "sequentialminus": [
            [
             0,
             "#0d0887"
            ],
            [
             0.1111111111111111,
             "#46039f"
            ],
            [
             0.2222222222222222,
             "#7201a8"
            ],
            [
             0.3333333333333333,
             "#9c179e"
            ],
            [
             0.4444444444444444,
             "#bd3786"
            ],
            [
             0.5555555555555556,
             "#d8576b"
            ],
            [
             0.6666666666666666,
             "#ed7953"
            ],
            [
             0.7777777777777778,
             "#fb9f3a"
            ],
            [
             0.8888888888888888,
             "#fdca26"
            ],
            [
             1,
             "#f0f921"
            ]
           ]
          },
          "colorway": [
           "#636efa",
           "#EF553B",
           "#00cc96",
           "#ab63fa",
           "#FFA15A",
           "#19d3f3",
           "#FF6692",
           "#B6E880",
           "#FF97FF",
           "#FECB52"
          ],
          "font": {
           "color": "#2a3f5f"
          },
          "geo": {
           "bgcolor": "white",
           "lakecolor": "white",
           "landcolor": "#E5ECF6",
           "showlakes": true,
           "showland": true,
           "subunitcolor": "white"
          },
          "hoverlabel": {
           "align": "left"
          },
          "hovermode": "closest",
          "mapbox": {
           "style": "light"
          },
          "paper_bgcolor": "white",
          "plot_bgcolor": "#E5ECF6",
          "polar": {
           "angularaxis": {
            "gridcolor": "white",
            "linecolor": "white",
            "ticks": ""
           },
           "bgcolor": "#E5ECF6",
           "radialaxis": {
            "gridcolor": "white",
            "linecolor": "white",
            "ticks": ""
           }
          },
          "scene": {
           "xaxis": {
            "backgroundcolor": "#E5ECF6",
            "gridcolor": "white",
            "gridwidth": 2,
            "linecolor": "white",
            "showbackground": true,
            "ticks": "",
            "zerolinecolor": "white"
           },
           "yaxis": {
            "backgroundcolor": "#E5ECF6",
            "gridcolor": "white",
            "gridwidth": 2,
            "linecolor": "white",
            "showbackground": true,
            "ticks": "",
            "zerolinecolor": "white"
           },
           "zaxis": {
            "backgroundcolor": "#E5ECF6",
            "gridcolor": "white",
            "gridwidth": 2,
            "linecolor": "white",
            "showbackground": true,
            "ticks": "",
            "zerolinecolor": "white"
           }
          },
          "shapedefaults": {
           "line": {
            "color": "#2a3f5f"
           }
          },
          "ternary": {
           "aaxis": {
            "gridcolor": "white",
            "linecolor": "white",
            "ticks": ""
           },
           "baxis": {
            "gridcolor": "white",
            "linecolor": "white",
            "ticks": ""
           },
           "bgcolor": "#E5ECF6",
           "caxis": {
            "gridcolor": "white",
            "linecolor": "white",
            "ticks": ""
           }
          },
          "title": {
           "x": 0.05
          },
          "xaxis": {
           "automargin": true,
           "gridcolor": "white",
           "linecolor": "white",
           "ticks": "",
           "title": {
            "standoff": 15
           },
           "zerolinecolor": "white",
           "zerolinewidth": 2
          },
          "yaxis": {
           "automargin": true,
           "gridcolor": "white",
           "linecolor": "white",
           "ticks": "",
           "title": {
            "standoff": 15
           },
           "zerolinecolor": "white",
           "zerolinewidth": 2
          }
         }
        },
        "title": {
         "text": "Residual Plot"
        },
        "xaxis": {
         "anchor": "y",
         "domain": [
          0,
          1
         ],
         "title": {
          "text": "Fitted Values(pre_y)"
         }
        },
        "yaxis": {
         "anchor": "x",
         "domain": [
          0,
          1
         ],
         "title": {
          "text": "Residual (Residual_test)"
         }
        }
       }
      }
     },
     "metadata": {},
     "output_type": "display_data"
    }
   ],
   "source": [
    "\n",
    "residual_test = y_test - pre_y\n",
    "\n",
    "fig = px.scatter(x = pre_y, y = residual_test, title = 'Residual Plot')\n",
    "fig.add_hline(y = 0, line_color = 'darkblue')\n",
    "fig.update_layout(xaxis_title = 'Fitted Values(pre_y)', yaxis_title = 'Residual (Residual_test)')\n",
    "fig.show()\n",
    "\n",
    "\n"
   ]
  },
  {
   "cell_type": "code",
   "execution_count": 28,
   "id": "32ed2f31",
   "metadata": {},
   "outputs": [
    {
     "data": {
      "text/plain": [
       "Text(0, 0.5, 'Residuals (Residual_test)')"
      ]
     },
     "execution_count": 28,
     "metadata": {},
     "output_type": "execute_result"
    },
    {
     "data": {
      "image/png": "[encoded data removed]",
      "text/plain": [
       "<Figure size 1400x800 with 1 Axes>"
      ]
     },
     "metadata": {},
     "output_type": "display_data"
    }
   ],
   "source": [
    "plt.figure(figsize = (14,8))\n",
    "sns.scatterplot(x = pre_y, y =residual_test)\n",
    "plt.axhline(y = 0, color = 'darkblue')\n",
    "plt.title('Residual Plot')\n",
    "plt.xlabel('Fitted Values (pre_y)')\n",
    "plt.ylabel('Residuals (Residual_test)')"
   ]
  },
  {
   "cell_type": "markdown",
   "id": "2257662c",
   "metadata": {},
   "source": [
    "As per the above calculations, R Squared is closer to 1. That means, regression relation is strong. In other words, the feature variables are largely contributes to the price of a car. But here, the Mean Absolute Error is higher. We can see by looking at the Residual plot. It having a pattern between y_test and pre_y. It indicates eventhough it had higher R Squared value, Linear Regression model is not suitable here. \n",
    "Since, the relationship is not linear, the models such as Ridge, Lasso and ElasticNet also not suit here."
   ]
  },
  {
   "cell_type": "markdown",
   "id": "5d2b92cf",
   "metadata": {},
   "source": [
    "Using Random Forest Regressor"
   ]
  },
  {
   "cell_type": "code",
   "execution_count": 35,
   "id": "0f1d31cb",
   "metadata": {},
   "outputs": [],
   "source": [
    "model2 = RandomForestRegressor()\n",
    "\n",
    "model2.fit(X_train,y_train)\n",
    "pre_y2 = model2.predict(X_test)\n"
   ]
  },
  {
   "cell_type": "code",
   "execution_count": 30,
   "id": "c84221f2",
   "metadata": {},
   "outputs": [
    {
     "data": {
      "text/plain": [
       "246.15752217997465"
      ]
     },
     "execution_count": 30,
     "metadata": {},
     "output_type": "execute_result"
    }
   ],
   "source": [
    "mae2 = mean_absolute_error(y_test,pre_y2)\n",
    "mae2"
   ]
  },
  {
   "cell_type": "code",
   "execution_count": 31,
   "id": "c7387ef6",
   "metadata": {},
   "outputs": [
    {
     "data": {
      "text/plain": [
       "3.0332078100578395"
      ]
     },
     "execution_count": 31,
     "metadata": {},
     "output_type": "execute_result"
    }
   ],
   "source": [
    "mape2 = mean_absolute_percentage_error(y_test,pre_y2)*100\n",
    "mape2"
   ]
  },
  {
   "cell_type": "code",
   "execution_count": 32,
   "id": "dd57796c",
   "metadata": {},
   "outputs": [
    {
     "data": {
      "text/plain": [
       "92.27049193314144"
      ]
     },
     "execution_count": 32,
     "metadata": {},
     "output_type": "execute_result"
    }
   ],
   "source": [
    "pred_y_train = model2.predict(X_train)\n",
    "mae2_1 = mean_absolute_error(y_train, pred_y_train)\n",
    "mae2_1"
   ]
  },
  {
   "cell_type": "markdown",
   "id": "96527b3c",
   "metadata": {},
   "source": [
    "We can also use cross validation score for this."
   ]
  },
  {
   "cell_type": "code",
   "execution_count": null,
   "id": "0683047c",
   "metadata": {},
   "outputs": [
    {
     "name": "stdout",
     "output_type": "stream",
     "text": [
      "CV MAE:  241.93655576304485\n"
     ]
    }
   ],
   "source": [
    "scores = cross_val_score(model2, X, y, scoring = \"neg_mean_absolute_error\", cv=5)\n",
    "print(\"CV MAE: \",-np.mean(scores))"
   ]
  },
  {
   "cell_type": "markdown",
   "id": "c4fd19d7",
   "metadata": {},
   "source": [
    "In here, the Train MAE is less than the Test MAE significantly. Therefore there is a overfitting exists. That means, eventhough the RandomForestRegressor model is best fit for Train dataset, it can make significant error in pricing for new data. Therefore, RandomForestRegressor model is not suitable for this data set."
   ]
  },
  {
   "cell_type": "markdown",
   "id": "7c87daec",
   "metadata": {},
   "source": [
    "Using XGBRegressor"
   ]
  },
  {
   "cell_type": "code",
   "execution_count": null,
   "id": "f5e245c4",
   "metadata": {},
   "outputs": [],
   "source": [
    "model3 = XGBRegressor()\n",
    "model3.fit(X_train, y_train)\n",
    "pre_y3 = model3.predict(X_test)"
   ]
  },
  {
   "cell_type": "code",
   "execution_count": null,
   "id": "a46eacc1",
   "metadata": {},
   "outputs": [
    {
     "data": {
      "text/plain": [
       "291.56622314453125"
      ]
     },
     "execution_count": 37,
     "metadata": {},
     "output_type": "execute_result"
    }
   ],
   "source": [
    "mae3 = mean_absolute_error(y_test, pre_y3)\n",
    "mae3"
   ]
  },
  {
   "cell_type": "markdown",
   "id": "d51ecfea",
   "metadata": {},
   "source": [
    "Cat Boost Regressor"
   ]
  },
  {
   "cell_type": "code",
   "execution_count": 52,
   "id": "6162d5a3",
   "metadata": {},
   "outputs": [],
   "source": [
    "model4 = CatBoostRegressor(verbose=0)\n",
    "model4.fit(X_train, y_train)\n",
    "pre_y4 = model4.predict(X_test)"
   ]
  },
  {
   "cell_type": "code",
   "execution_count": null,
   "id": "1f3a3202",
   "metadata": {},
   "outputs": [
    {
     "data": {
      "text/plain": [
       "114.24390050325427"
      ]
     },
     "execution_count": 39,
     "metadata": {},
     "output_type": "execute_result"
    }
   ],
   "source": [
    "mae4 = mean_absolute_error(y_test, pre_y4)\n",
    "mae4"
   ]
  },
  {
   "cell_type": "code",
   "execution_count": null,
   "id": "26ab3934",
   "metadata": {},
   "outputs": [
    {
     "data": {
      "text/plain": [
       "103.7946137725905"
      ]
     },
     "execution_count": 40,
     "metadata": {},
     "output_type": "execute_result"
    }
   ],
   "source": [
    "pred_y_train4 = model4.predict(X_train)\n",
    "\n",
    "mae4_train = mean_absolute_error(y_train, pred_y_train4 )\n",
    "mae4_train"
   ]
  },
  {
   "cell_type": "code",
   "execution_count": 53,
   "id": "05e47684",
   "metadata": {},
   "outputs": [
    {
     "name": "stdout",
     "output_type": "stream",
     "text": [
      "Mean MAE:  111.769\n",
      "STD MAE:  1.706\n"
     ]
    }
   ],
   "source": [
    "score4 = cross_val_score(model4, X, y, scoring = \"neg_mean_absolute_error\", cv = 5, verbose=0)\n",
    "\n",
    "mae_scores = -score4\n",
    "mean_mae = mae_scores.mean()\n",
    "std_mae  = mae_scores.std()\n",
    "print(\"Mean MAE: \",round(mean_mae,3))\n",
    "print(\"STD MAE: \",round(std_mae,3))"
   ]
  },
  {
   "cell_type": "markdown",
   "id": "fe9567ed",
   "metadata": {},
   "source": [
    "This shows CV MAE is closer to the test data MAE. Therefore we can conclude there is no overfitting at all. This can be confirmes by looking at the cross validation scores."
   ]
  },
  {
   "cell_type": "markdown",
   "id": "0dbb9dd8",
   "metadata": {},
   "source": [
    "Using Decision Tree Regressor Model"
   ]
  },
  {
   "cell_type": "code",
   "execution_count": null,
   "id": "103058de",
   "metadata": {},
   "outputs": [],
   "source": [
    "model5 = DecisionTreeRegressor()\n",
    "\n",
    "model5.fit(X_train,y_train)\n",
    "pre_y5 = model5.predict(X_test)\n"
   ]
  },
  {
   "cell_type": "code",
   "execution_count": null,
   "id": "29e972e5",
   "metadata": {},
   "outputs": [
    {
     "data": {
      "text/plain": [
       "400.06738487536967"
      ]
     },
     "execution_count": 45,
     "metadata": {},
     "output_type": "execute_result"
    }
   ],
   "source": [
    "mae5 = mean_absolute_error(y_test,pre_y5)\n",
    "mae5"
   ]
  },
  {
   "cell_type": "code",
   "execution_count": null,
   "id": "c15ffb51",
   "metadata": {},
   "outputs": [
    {
     "data": {
      "text/plain": [
       "5.043911029984973"
      ]
     },
     "execution_count": 46,
     "metadata": {},
     "output_type": "execute_result"
    }
   ],
   "source": [
    "mape5 = mean_absolute_percentage_error(y_test, pre_y5)*100\n",
    "mape5"
   ]
  },
  {
   "cell_type": "markdown",
   "id": "8142781e",
   "metadata": {},
   "source": [
    "Gradient Boosting regressor"
   ]
  },
  {
   "cell_type": "code",
   "execution_count": 47,
   "id": "87e4035a",
   "metadata": {},
   "outputs": [],
   "source": [
    "model6 = GradientBoostingRegressor()\n",
    "model6.fit(X_train, y_train)\n",
    "pre_y6 = model6.predict(X_test)"
   ]
  },
  {
   "cell_type": "code",
   "execution_count": 48,
   "id": "3da7fe1a",
   "metadata": {},
   "outputs": [
    {
     "data": {
      "text/plain": [
       "851.1376058007393"
      ]
     },
     "execution_count": 48,
     "metadata": {},
     "output_type": "execute_result"
    }
   ],
   "source": [
    "mae6 = mean_absolute_error(y_test, pre_y6)\n",
    "mae6"
   ]
  },
  {
   "cell_type": "code",
   "execution_count": 50,
   "id": "8f3e3f85",
   "metadata": {},
   "outputs": [],
   "source": [
    "model7 = MLPRegressor(max_iter = 500)\n",
    "model7.fit(X_train, y_train)\n",
    "pre_y7 = model7.predict(X_test)"
   ]
  },
  {
   "cell_type": "code",
   "execution_count": 51,
   "id": "9f27ebc7",
   "metadata": {},
   "outputs": [
    {
     "data": {
      "text/plain": [
       "2898.446006154152"
      ]
     },
     "execution_count": 51,
     "metadata": {},
     "output_type": "execute_result"
    }
   ],
   "source": [
    "mae7 = mean_absolute_error(y_test, pre_y7)\n",
    "mae7"
   ]
  },
  {
   "cell_type": "markdown",
   "id": "dec211b0",
   "metadata": {},
   "source": [
    "In Conclution, Cat Boost Regressor is the best model that fit to this data set. It has lower and closer Train and Test Mean Absolute Error, and also low mean MAE and low standard deviated MAE."
   ]
  }
 ],
 "metadata": {
  "kernelspec": {
   "display_name": "Python 3",
   "language": "python",
   "name": "python3"
  },
  "language_info": {
   "codemirror_mode": {
    "name": "ipython",
    "version": 3
   },
   "file_extension": ".py",
   "mimetype": "text/x-python",
   "name": "python",
   "nbconvert_exporter": "python",
   "pygments_lexer": "ipython3",
   "version": "3.11.3"
  }
 },
 "nbformat": 4,
 "nbformat_minor": 5
}
